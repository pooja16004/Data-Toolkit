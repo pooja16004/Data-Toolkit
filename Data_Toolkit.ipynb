{
  "nbformat": 4,
  "nbformat_minor": 0,
  "metadata": {
    "colab": {
      "provenance": []
    },
    "kernelspec": {
      "name": "python3",
      "display_name": "Python 3"
    },
    "language_info": {
      "name": "python"
    }
  },
  "cells": [
    {
      "cell_type": "markdown",
      "source": [
        "1- What is NumPy, and why is it widely used in Python?\n",
        "- NumPy (short for Numerical Python) is a powerful open-source library in Python used for numerical computing. It provides support for large, multi-dimensional arrays and matrices, along with a collection of mathematical functions to operate on these arrays efficiently.\n",
        " - Key Features of NumPy\n",
        "  - ndarray (N-dimensional array) :- NumPy's core feature is the ndarray, a fast and memory-efficient array object that allows vectorized operations (eliminating the need for loops).Supports arrays of any data type (integers, floats, booleans, etc.).\n",
        "\n",
        "  - Mathematical & Statistical Functions :- Includes functions for linear algebra, Fourier transforms, random number generation, and statistical operations.\n",
        "\n",
        "  - Broadcasting :- Enables arithmetic operations on arrays of different shapes.\n",
        "\n",
        "  - Memory Efficiency :- NumPy arrays are more memory-efficient than Python lists because they store homogeneous data types in contiguous memory blocks.\n",
        "\n",
        "  - Interoperability :- Integrates well with other scientific libraries like SciPy, Pandas, Matplotlib, Scikit-learn, TensorFlow, and PyTorch.\n",
        "\n",
        "Why is NumPy Widely Used?\n",
        "\n",
        " - Performance :- NumPy is optimized for speed (written in C and Fortran) and performs operations much faster than native Python lists.\n",
        "\n",
        " - Ease of Use :- Provides a simple and consistent API for numerical computations.\n",
        "\n",
        " - Foundation for Data Science & Machine Learning :- Many advanced libraries (like Pandas, Scikit-learn, and TensorFlow) rely on NumPy arrays for computations.\n",
        "\n",
        " - Vectorization :- Avoids slow Python loops by applying operations to entire arrays at once.\n",
        "\n",
        " - Memory Efficiency :- Uses fixed-type arrays, reducing memory overhead compared to Python lists.\n"
      ],
      "metadata": {
        "id": "7VgNPrSC2kJn"
      }
    },
    {
      "cell_type": "markdown",
      "source": [
        "2- How does broadcasting work in NumPy?\n",
        "- Broadcasting is a set of rules that NumPy uses to stretch the smaller array so it matches the shape of the larger one, without copying data unnecessarily.\n",
        "\n",
        "Basic Rules of Broadcasting\n",
        "\n",
        " - If the arrays have a different number of dimensions, NumPy adds ones to the\n",
        "   shape of the smaller array from the left until both arrays have the same number of dimensions.\n",
        "\n",
        " - Then, it compares dimensions one by one:\n",
        "\n",
        "    - If the sizes are equal, it’s a match.\n",
        "\n",
        "    - If one of the dimensions is 1, NumPy \"stretches\" it to match the other.\n",
        "\n",
        "    - If neither is 1 and they are not equal, it raises an error."
      ],
      "metadata": {
        "id": "8WMYW6uc2kGO"
      }
    },
    {
      "cell_type": "markdown",
      "source": [
        "3- What is a Pandas DataFrame?\n",
        " - A Pandas DataFrame is a two-dimensional, tabular data structure (like a spreadsheet or SQL table) that stores data in rows and columns. It is the most commonly used object in the Pandas library (built on top of NumPy) and is designed for data manipulation and analysis in Python.\n",
        "\n",
        "  Key Features of a DataFrame\n",
        "\n",
        "   - Columns can have different data types (e.g., integers, strings, floats).\n",
        "\n",
        "   - Labeled axes :- Rows are indexed (default: 0, 1, 2,..., but customizable).\n",
        "Columns have names (like in a database table).\n",
        "\n",
        "  - Size-mutable :- Columns can be added/deleted.Rows can be appended or dropped.\n",
        "\n",
        "  - Powerful data operations :- Filtering, grouping, merging, reshaping. Handling missing data (NaN values).\n",
        "\n",
        "  - Integration :- Works seamlessly with NumPy, Matplotlib, Scikit-learn, etc."
      ],
      "metadata": {
        "id": "AA0IAUXJ2kCX"
      }
    },
    {
      "cell_type": "markdown",
      "source": [
        "4- Explain the use of the groupby() method in Pandas?\n",
        "- groupby() is used to split data into groups based on some criteria (like a column value), then apply a function (like sum(), mean(), etc.) to each group, and finally combine the results into a new DataFrame.It's part of what's known as the \"split-apply-combine\" strategy.\n",
        "\n",
        "How groupby() Works\n",
        "\n",
        " - Split: Divides the data into groups based on a key (column, function, or list of keys).\n",
        "\n",
        " - Apply: Performs a function (e.g., sum(), mean(), count()) on each group.\n",
        "\n",
        " - Combine: Merges the results into a new DataFrame or Series.\n",
        "\n",
        "\n",
        " Basic Syntax:-\n",
        "\n",
        "     df.groupby(by=\"column_name\").operation()\n",
        "\n",
        "by: Column(s) to group by (can be a string, list, or function).\n",
        "\n",
        "operation(): Aggregation function like sum(), mean(), count(), etc."
      ],
      "metadata": {
        "id": "W9TAXy432j_b"
      }
    },
    {
      "cell_type": "markdown",
      "source": [
        "5- Why is Seaborn preferred for statistical visualizations?\n",
        "-Seaborn is preferred because it:\n",
        "  - Built on Matplotlib: Simplifies complex plots with fewer lines of code.\n",
        "\n",
        "  - Statistical Focus: Automatically calculates aggregations (e.g., confidence intervals in sns.lineplot()).\n",
        "\n",
        "  - Aesthetic Defaults: Attractive themes and color palettes.\n",
        "\n",
        "  - High-Level Functions: Supports plots like violin plots, regression plots (sns.regplot), and distribution plots (sns.histplot).\n",
        "\n",
        "  - Pandas Integration: Works seamlessly with DataFrames.\n",
        "\n",
        "  Example:-\n",
        "\n",
        "  import seaborn as sns\n",
        "\n",
        "sns.boxplot(data=df, x=\"Category\", y=\"Values\")  # One-line statistical summary"
      ],
      "metadata": {
        "id": "j3tXx5s42j8g"
      }
    },
    {
      "cell_type": "markdown",
      "source": [
        "6- What are the differences between NumPy arrays and Python lists?\n",
        "- Feature\tNumPy Arrays\tPython Lists\n",
        "  - Speed\t:- NumPy Arrays Faster (C backend, vectorized ops), Python Lists\tSlower (interpreted loops)\n",
        "  - Memory\t:- NumPy Arrays Contiguous memory (efficient storage), Python Lists\tNon-contiguous (overhead per item)\n",
        "  - Functionality :- NumPy Arrays\tMath ops (e.g., np.sin(arr)), Python Lists\tLimited to basic operations\n",
        "  - Homogeneity\t:- NumPy Arrays Single data type, Python Lists\tMixed types allowed\n",
        "\n",
        "\n",
        "  - Use Case : Use NumPy for numerical computations; lists for heterogeneous data."
      ],
      "metadata": {
        "id": "-fj9d1tA2j5K"
      }
    },
    {
      "cell_type": "markdown",
      "source": [
        "7- What is a heatmap, and when should it be used?\n",
        "- A heatmap is a 2D representation of data where values are shown using color.\n",
        "\n",
        "\n",
        "Use a heatmap when you want to:\n",
        "\n",
        " - Show the relationship between two variables.\n",
        "\n",
        " - Visualize correlation matrices or confusion matrices.\n",
        "\n",
        " - Identify patterns, trends, or outliers in tabular data.\n",
        "\n",
        "Example:-\n",
        "\n",
        "\n",
        " sns.heatmap(data=correlation_matrix, annot=True)  # Annotated correlations"
      ],
      "metadata": {
        "id": "YCtoId0X2j12"
      }
    },
    {
      "cell_type": "markdown",
      "source": [
        "8- What does the term “vectorized operation” mean in NumPy?\n",
        "- Definition: Operations applied to entire arrays (not loops), leveraging CPU parallelism.\n",
        "\n",
        "Advantage: Faster than Python loops (e.g., arr1 + arr2 instead of [x+y for x,y in zip(list1, list2)]).\n",
        "\n",
        "Example:\n",
        "\n",
        "import numpy as np\n",
        "\n",
        "arr = np.array([1, 2, 3])\n",
        "\n",
        "result = arr * 2  # Vectorized: [2, 4, 6]"
      ],
      "metadata": {
        "id": "SqcER4pi2jyt"
      }
    },
    {
      "cell_type": "markdown",
      "source": [
        "9- How does Matplotlib differ from Plotly?\n",
        "- The Plotting Experience - Matplotlib is like setting up your own art studio. You grab all the brushes and colors, and you need to carefully craft every detail of your plot. If you want a unique design, it’s all up to you, but it requires some serious focus and time to make it look polished. Plotly, on the other hand, is more like working with a smart design tool. You tell it what you want — a bar chart, a 3D surface plot — and it handles most of the technical stuff for you. Plus, you get interactivity right off the bat, so you can zoom, pan, and hover through your data.\n",
        "\n",
        " # Static vs. Dynamic :-\n",
        "\n",
        "  - Matplotlib is your go-to when you need a static plot that will look exactly the same every time it’s rendered. Great for printing, papers, or creating precise, non-interactive graphs.\n",
        "\n",
        "  - Plotly excels in dynamic visuals. Its plots can react to user inputs, letting viewers zoom into areas of interest, hover over points for more details, and even rotate 3D plots. This makes Plotly the choice for web applications or interactive dashboards.\n",
        "\n",
        " # Speed and Ease of Use\n",
        "\n",
        " - Matplotlib is powerful and offers full flexibility, but it can feel like working with a heavy toolbox. You need to set up everything, like axis labels, ticks, line styles, and even figure sizes manually. It's perfect for when you need absolute control but can be a bit slow to set up.\n",
        "\n",
        " - Plotly is faster for creating plots. It lets you build sophisticated charts with much less code. With its high-level, declarative API, you spend less time on setup and more on designing the experience.\n",
        "\n",
        "  # Output Style\n",
        "\n",
        " - Matplotlib tends to generate static image files (like PNG, SVG, or PDF), so once your plot is done, it's fixed. The data is locked in, and the plot stays as it is until you manually change it and re-export.\n",
        "\n",
        " - Plotly creates interactive charts that can be embedded into websites, and shared or manipulated in real-time. Viewers can interact with the charts directly, which adds an engaging, exploratory element."
      ],
      "metadata": {
        "id": "OX_OWgDQ2jwA"
      }
    },
    {
      "cell_type": "markdown",
      "source": [
        "10- What is the significance of hierarchical indexing in Pandas?\n",
        "- Hierarchical indexing (also known as multi-level indexing) is a powerful feature in Pandas that allows you to work with higher-dimensional data in a lower-dimensional DataFrame or Series. Here's a clear and structured explanation of its significance:\n",
        "\n",
        "# What is Hierarchical Indexing?\n",
        "Hierarchical indexing means having multiple index levels on an axis (rows or columns). Instead of just one index label per row (like \"row1\", \"row2\", etc.), you can have a tuple of labels, such as ('USA', 2020), ('USA', 2021), etc.\n",
        "\n",
        "# Significance and Advantages\n",
        "1. Better Organization of Data\n",
        "Hierarchical indexing helps organize complex datasets in a structured and intuitive way. For example, you can group data by country and then by year:\n",
        "\n",
        "2. Enables Multi-dimensional Analysis\n",
        "It allows you to perform operations like grouping, filtering, aggregation, or slicing on multiple levels. You can access data at any level of the index:\n",
        "\n",
        "3. Facilitates Pivot Tables and Reshaping\n",
        "Hierarchical indexing is extremely useful when using functions like pivot_table(), stack(), and unstack(). These operations rely heavily on multi-level indexing to reshape data easily between wide and long formats.\n",
        "\n",
        "4. Improves Data Readability and Grouping\n",
        "With levels of hierarchy, it's easier to group related data together and make your analysis more readable. This is especially useful in time series data, financial analysis, or datasets with multiple categories (e.g., region, product, and time).\n",
        "\n",
        "5. Supports Complex Aggregations\n",
        "You can perform complex group-wise calculations and then refer back to specific groups using hierarchical keys, all without needing to create new columns or break the structure of your dataset."
      ],
      "metadata": {
        "id": "zhg_mlZbXPrS"
      }
    },
    {
      "cell_type": "markdown",
      "source": [
        "11- What is the role of Seaborn’s pairplot() function?\n",
        "-The pairplot() function is used to create a grid of scatter plots (for each pair of numerical variables) and distribution plots (on the diagonal). It’s super helpful for quickly visualizing relationships between variables in a dataset.\n",
        "\n",
        "# Why Use pairplot()?\n",
        "\n",
        "\n",
        "1. Visualize Relationships Between All Numeric Variables\n",
        "It creates scatter plots for every possible combination of variables.\n",
        "\n",
        "Helps detect correlations, trends, or clusters.\n",
        "\n",
        "2. Detect Outliers and Patterns\n",
        "Outliers are easier to spot when plotting all variables against each other.\n",
        "\n",
        "Patterns in relationships (linear, nonlinear, etc.) become visually obvious.\n",
        "\n",
        "3. Compare Distributions\n",
        "The diagonal shows the distribution (histogram or KDE) of each variable.\n",
        "\n",
        "You can assess normality, skewness, or spread.\n",
        "\n",
        "4. Explore Class-based Differences\n",
        "If you provide a hue argument (like a category column), it color-codes the plots by that class.\n",
        "\n",
        "This is especially helpful for spotting class separation or how categories behave across features."
      ],
      "metadata": {
        "id": "izJKe00GXPni"
      }
    },
    {
      "cell_type": "markdown",
      "source": [
        "12- What is the purpose of the describe() function in Pandas?\n",
        "- The describe() function provides a summary of statistical metrics for the numerical columns in a DataFrame (or Series) — helping you quickly understand the distribution and basic stats of your data.\n",
        "\n",
        "#count\n",
        "-\tNumber of non-null (non-NaN) values\n",
        "#mean\n",
        "-\tAverage value\n",
        "#std\n",
        "-\tStandard deviation (spread of the data)\n",
        "#min\n",
        "- Minimum value\n",
        "#25%\n",
        "-\tFirst quartile (Q1) – 25% of the data is below this value\n",
        "#50%\n",
        "-\tMedian (Q2) – middle value\n",
        "#75%\n",
        "- Third quartile (Q3) – 75% of the data is below this value\n",
        "#max\n",
        "- Maximum value"
      ],
      "metadata": {
        "id": "TVDrFD8VXPkw"
      }
    },
    {
      "cell_type": "markdown",
      "source": [
        "13- Why is handling missing data important in Pandas?\n",
        "- Handling missing data is super important in Pandas (and in data analysis in general) because missing data can seriously mess with your results if you ignore it. Here's why it's crucial:\n",
        "\n",
        "#1. Accurate Analysis :-\n",
        "\n",
        "Many functions in Pandas (like mean(), sum(), etc.) can return incorrect results if missing values (NaN) aren't handled properly.\n",
        "\n",
        "For example, calculating the average of a column with missing values might give you misleading results.\n",
        "\n",
        "#2. Preventing Errors :-  \n",
        "\n",
        "Some operations can break or throw errors if they encounter missing values.\n",
        "\n",
        "For instance, trying to run machine learning algorithms or statistical models often requires a clean dataset with no NaN values.\n",
        "\n",
        "#3. Improved Model Performance :-\n",
        "\n",
        "If you're doing any kind of predictive modeling, missing data can reduce model accuracy and reliability.\n",
        "\n",
        "Thoughtful handling (like imputation) can help retain useful information and make models more robust.\n",
        "\n",
        "#4. Better Data Quality :-\n",
        "\n",
        "Cleaning up missing data improves the overall quality of your dataset, making your analysis more trustworthy and professional.\n",
        "\n",
        "#5. Understanding the Data :-\n",
        "\n",
        "Sometimes why data is missing is as important as the data itself. Exploring missing data patterns can reveal important insights about how the data was collected.\n",
        "\n",
        "\n",
        "# Common ways to handle missing data in Pandas:\n",
        "\n",
        "- dropna(): Remove rows/columns with missing values.\n",
        "\n",
        "- fillna(): Fill missing values with a specific value (mean, median, etc.).\n",
        "\n",
        "- isna() / notna(): Detect where data is missing."
      ],
      "metadata": {
        "id": "YBKFWxfFXPhp"
      }
    },
    {
      "cell_type": "markdown",
      "source": [
        "14- What are the benefits of using Plotly for data visualization?\n",
        "- Plotly is a powerful and flexible data visualization library, especially in Python, and it's loved for good reason! Here are some of the biggest benefits:\n",
        "\n",
        "#1. Interactive Visualizations\n",
        "Plotly makes charts that you can hover, zoom, pan, click, and select — right out of the box.\n",
        "\n",
        "Hover tooltips show data points.\n",
        "\n",
        "Zoom into areas for better detail.\n",
        "\n",
        "Export charts easily as images or HTML.\n",
        "\n",
        "#2. Beautiful, Publication-Quality Plots\n",
        "Plotly creates clean, modern, and visually appealing charts that are ready to present or publish — no extra styling required.\n",
        "\n",
        "#3. Wide Range of Chart Types\n",
        "It supports a ton of chart types:\n",
        "\n",
        "Line, bar, pie, scatter\n",
        "\n",
        "3D plots\n",
        "\n",
        "Maps (geo, choropleth)\n",
        "\n",
        "Heatmaps\n",
        "\n",
        "Financial charts (candlestick)\n",
        "\n",
        "Dashboards\n",
        "\n",
        "#4. Easy Integration with Dash\n",
        "Plotly works seamlessly with Dash, a Python framework for building interactive web dashboards — no JavaScript needed!\n"
      ],
      "metadata": {
        "id": "piqEM4ZWXPej"
      }
    },
    {
      "cell_type": "markdown",
      "source": [
        "15- How does NumPy handle multidimensional arrays?\n",
        "-  NumPy's multidimensional arrays (ndarrays) are its core feature, enabling efficient storage and operations on high-dimensional data. Here's how NumPy manages them:\n",
        "\n",
        "#1. Memory Efficiency\n",
        "Contiguous Memory Blocks: NumPy arrays store data in a single, contiguous block of memory (unlike Python lists, which store pointers to scattered objects).\n",
        "\n",
        "Fixed Data Types (dtype): All elements in an array must be of the same type (e.g., int32, float64), reducing memory overhead.\n",
        "\n",
        "Strides: NumPy uses strides (byte offsets between elements) to navigate dimensions without copying data.\n",
        "\n",
        "Example:-\n",
        "\n",
        "import numpy as np\n",
        "\n",
        "arr = np.array([[1, 2, 3], [4, 5, 6]], dtype=np.int32)  # 2x3 array\n",
        "\n",
        "print(arr.strides)  # Output: (12, 4) → 12 bytes per row, 4 bytes per element\n",
        "\n",
        "#2. Array Creation\n",
        "\n",
        "NumPy provides multiple ways to create multidimensional arrays:\n",
        "\n",
        "From Python lists:\n",
        "\n",
        "arr = np.array([[1, 2], [3, 4]])  # 2D array\n",
        "\n",
        "Using built-in functions:\n",
        "\n",
        "zeros = np.zeros((3, 3))  # 3x3 array of 0s\n",
        "\n",
        "ones = np.ones((2, 4))    # 2x4 array of 1s\n",
        "\n",
        "rand = np.random.rand(2, 2, 2)  # 3D random array\n",
        "\n",
        "#3. Indexing & Slicing\n",
        "\n",
        "Accessing Elements: Use comma-separated indices for each dimension.\n",
        "\n",
        "arr = np.array([[1, 2, 3], [4, 5, 6]])\n",
        "\n",
        "print(arr[1, 2])  # Output: 6 (second row, third column)\n",
        "\n",
        "Slicing: Similar to Python lists but extended to multiple dimensions.\n",
        "\n",
        "print(arr[:, 1:3])  # All rows, columns 1-2 → [[2, 3], [5, 6]]\n",
        "\n",
        "#4. Broadcasting\n",
        "NumPy automatically broadcasts smaller arrays to match larger ones during operations:\n",
        "\n",
        "A = np.array([[1, 2], [3, 4]])  # 2x2\n",
        "\n",
        "B = np.array([10, 20])           # 1x2\n",
        "\n",
        "print(A + B)  # B is broadcasted to [[10, 20], [10, 20]]\n",
        "\n",
        "#5. Vectorized Operations\n",
        "Efficiency: Operations are applied element-wise without loops (optimized in C).\n",
        "\n",
        "Universal Functions (ufuncs): Fast math operations (e.g., np.sin(), np.exp()).\n",
        "\n",
        "arr = np.array([1, 2, 3])\n",
        "\n",
        "print(arr * 2)  # Output: [2, 4, 6]\n",
        "\n",
        "#6. Reshaping & Flattening\n",
        "Reshape: Change dimensions without altering data.\n",
        "\n",
        "arr = np.arange(6).reshape(2, 3)  # 1D → 2D\n",
        "\n",
        "Flatten: Convert to 1D.\n",
        "\n",
        "arr.flatten()  # Output: [0, 1, 2, 3, 4, 5]"
      ],
      "metadata": {
        "id": "toSfT8bVXPcI"
      }
    },
    {
      "cell_type": "markdown",
      "source": [
        "16- What is the role of Bokeh in data visualization?\n",
        "- Bokeh is a powerful Python library for interactive, web-ready data visualizations, and it plays a key role when you want more than just static plots. Here's what Bokeh brings to the table:\n",
        "\n",
        "#Main Role of Bokeh:\n",
        "To create interactive, high-performance visualizations that can be embedded in web applications, dashboards, or Jupyter notebooks.\n",
        "\n",
        "#Why Use Bokeh? Key Benefits:\n",
        "1. Interactivity Out of the Box\n",
        "  - Hover tooltips\n",
        "  - Zooming and panning\n",
        "  - Linked brushing between plots\n",
        "  - Custom widgets like sliders, dropdowns, and buttons\n",
        "\n",
        "#2. Web-Ready Output\n",
        "  - Generates HTML, JavaScript, or standalone apps\n",
        "  - You can embed Bokeh plots into websites or dashboards without needing JavaScript coding\n",
        "\n",
        "#3. Works Well with Pandas and NumPy\n",
        "  - You can directly pass in Pandas DataFrames\n",
        "  - Makes it easy to switch from data analysis to visualization\n",
        "\n",
        "#4. Server-Side Capabilities (Bokeh Server)\n",
        "  - Lets you build interactive web apps with live Python callbacks\n",
        "  - Great for dashboards that respond to user input or real-time data\n",
        "\n",
        "#5. Rich Set of Plot Types\n",
        "  - Line, bar, scatter, pie (with extensions), heatmaps\n",
        "  - Complex visualizations like network graphs, maps, and streaming data\n",
        "\n",
        "Example: Simple Interactive Plot\n",
        "\n",
        "from bokeh.plotting import figure, show\n",
        "\n",
        "from bokeh.io import output_notebook\n",
        "\n",
        "output_notebook()  # for Jupyter Notebook\n",
        "\n",
        "p = figure(title=\"Simple Line Plot\", x_axis_label='X', y_axis_label='Y')\n",
        "\n",
        "p.line([1, 2, 3, 4], [3, 7, 8, 5], line_width=2)\n",
        "\n",
        "show(p)\n"
      ],
      "metadata": {
        "id": "wIvNCnZFpm3s"
      }
    },
    {
      "cell_type": "markdown",
      "source": [
        "17- Explain the difference between apply() and map() in Pandas.\n",
        "- apply() and map() are both used to transform data in Pandas, but they're a bit different in how and where they're used.\n",
        "\n",
        "#map() - Simple element-wise transformation on a Series\n",
        "\n",
        "Best for:\n",
        "\n",
        "Mapping values (like changing labels)\n",
        "\n",
        "Applying simple functions to individual elements\n",
        "\n",
        "Example:\n",
        "\n",
        "import pandas as pd\n",
        "\n",
        "s = pd.Series([1, 2, 3, 4])\n",
        "\n",
        "# Square each element\n",
        "\n",
        "s.map(lambda x: x**2)\n",
        "\n",
        "# Mapping with a dictionary:\n",
        "\n",
        "s = pd.Series(['cat', 'dog', 'bird'])\n",
        "\n",
        "s.map({'cat': '🐱', 'dog': '🐶'})\n",
        "\n",
        "#apply() – More powerful; can work on Series or entire DataFrames\n",
        "Best for:\n",
        "\n",
        "Row-wise or column-wise operations\n",
        "\n",
        "Applying complex functions\n",
        "\n",
        "Aggregations or transformations on a DataFrame\n",
        "\n",
        "On a Series:\n",
        "\n",
        "s = pd.Series([1, 2, 3, 4])\n",
        "\n",
        "s.apply(lambda x: x**2)\n",
        "\n",
        "On a DataFrame:\n",
        "\n",
        "df = pd.DataFrame({\n",
        "    'A': [1, 2, 3],\n",
        "    'B': [10, 20, 30]\n",
        "})\n",
        "\n",
        "# Sum each row\n",
        "df.apply(lambda row: row.sum(), axis=1)\n"
      ],
      "metadata": {
        "id": "JpbirioKpm0z"
      }
    },
    {
      "cell_type": "markdown",
      "source": [
        "18- What are some advanced features of NumPy?\n",
        "- Once you've nailed the basics of NumPy (arrays, slicing, broadcasting), diving into advanced features can really level up your data science or numerical computing skills.\n",
        "\n",
        "Here are some of the most powerful and advanced features of NumPy:\n",
        "\n",
        "1. Broadcasting :-\n",
        "Perform operations on arrays of different shapes without explicit loops.\n",
        "\n",
        "NumPy \"broadcasts\" smaller arrays over larger ones.\n",
        "\n",
        "2. Vectorization :-\n",
        "Replaces Python loops with fast, vectorized operations at the C level.\n",
        "\n",
        "Drastically improves performance.\n",
        "\n",
        "3. Fancy Indexing :-\n",
        "Allows you to index arrays with other arrays (boolean or integer arrays).\n",
        "\n",
        "4. Memory Views & Slicing :-\n",
        "Slices in NumPy don't copy data—they return views.\n",
        "\n",
        "Super efficient for working with large datasets.\n",
        "\n",
        "5. einsum() (Einstein Summation Notation) :-\n",
        "Powerful for performing complex operations like dot products, transpositions, outer products, etc., all in one line.\n",
        "\n",
        "6. Masked Arrays :-\n",
        "Handle invalid or missing data while still keeping the structure of your array.\n",
        "7. Structured Arrays\n",
        "Store complex data types (like rows in a table with mixed data types).\n",
        "\n",
        "8. Random Sampling and Statistics:-\n",
        "Comes with its own random module (np.random) and tools like:\n",
        "\n",
        "np.random.normal()\n",
        "\n",
        "np.random.randint()\n",
        "\n",
        "np.random.choice()\n",
        "\n",
        "9. Integration with Other Libraries :\n",
        "Works seamlessly with:\n",
        "\n",
        "SciPy (for scientific computing)\n",
        "\n",
        "Pandas (for tabular data)\n",
        "\n",
        "TensorFlow / PyTorch (for deep learning)\n",
        "\n",
        "10. Low-Level C Interface :\n",
        "\n",
        "You can use NumPy arrays in C extensions for serious performance."
      ],
      "metadata": {
        "id": "ghFjdPGqpmx0"
      }
    },
    {
      "cell_type": "markdown",
      "source": [
        "19-  How does Pandas simplify time series analysis?\n",
        "- Pandas makes time series analysis way easier and more intuitive compared to doing it from scratch — it's one of the reasons it's such a popular library in data science and finance!\n",
        "\n",
        "#DateTime Indexing and Slicing\n",
        "DateTimeIndex: Pandas provides a specialized DatetimeIndex which allows for time-based indexing. This makes it easy to slice, select, and aggregate data based on specific time periods (e.g., months, years, days).\n",
        "\n",
        "Convenient slicing: You can slice data using a string or date object directly (e.g., df['2020-01-01':'2021-01-01']), which allows for quick access to specific time period\n",
        "\n",
        "#Resampling\n",
        "Pandas makes it easy to resample time series data, converting it to different time frequencies (e.g., from daily to monthly or from hourly to daily). This is useful for changing the granularity of the data or aggregating data to summarize trends over time.\n",
        "\n",
        "Example: df.resample('M').mean() resamples the data by month and computes the mean of each month.\n",
        "\n",
        "#Time Zone Handling\n",
        "Pandas offers built-in support for time zone conversion, making it easier to work with data that spans multiple time zones.\n",
        "\n",
        "You can localize and convert times from one time zone to another using df.tz_localize() and df.tz_convert().\n",
        "\n",
        "#Shifting and Lagging\n",
        "Time series often requires operations like shifting data to compare with past or future values. Pandas allows you to shift data with df.shift() (e.g., to create lagged variables).\n",
        "\n",
        "This is useful for calculating moving averages, percentage changes, or comparing the current value with previous time points."
      ],
      "metadata": {
        "id": "LQNsI2Z6pmkk"
      }
    },
    {
      "cell_type": "markdown",
      "source": [
        "20- What is the role of a pivot table in Pandas ?\n",
        "- A pivot table in Pandas is a powerful tool for data aggregation and summarization. It allows you to reorganize and group data to uncover patterns or insights by reshaping and summarizing the data based on specified rows, columns, and aggregate functions. The main role of a pivot table is to quickly generate summary statistics (like sums, means, counts, etc.) from a more complex dataset.\n",
        "\n",
        "#Data Summarization:\n",
        "It can summarize data by grouping it according to specific column(s), performing aggregation functions such as sum, mean, count, etc.\n",
        "\n",
        "#Reshaping Data:\n",
        "It allows you to pivot the dataset, turning unique values from one column into multiple columns (i.e., a transformation of long format data to wide format).\n",
        "\n",
        "#Custom Aggregation:\n",
        "You can specify custom aggregation functions (e.g., sum, mean, median, etc.) to calculate summary statistics for each group.\n",
        "\n",
        "#Handling Multiple Values:\n",
        "It allows you to handle cases where multiple values exist for each group by applying aggregation functions (e.g., taking the sum or average of the grouped data)."
      ],
      "metadata": {
        "id": "2acKBwl9pmhT"
      }
    },
    {
      "cell_type": "markdown",
      "source": [
        "21- Why is NumPy's array slicing faster than Python’s list slicing ?\n",
        "#Contiguous Memory Allocation:\n",
        "NumPy arrays are stored in contiguous blocks of memory, meaning that all elements of the array are placed next to each other. This allows for more efficient access to memory during slicing, as the underlying data is stored in a way that allows for better cache utilization and faster memory access.\n",
        "\n",
        "Python lists, on the other hand, are arrays of pointers to objects, which makes them less efficient in terms of memory access because they are not contiguous.\n",
        "\n",
        "#Optimized C Implementation:\n",
        "NumPy is implemented in C, which allows it to leverage lower-level optimizations and faster memory manipulation. The slicing in NumPy is done in C, which is far faster than Python’s native list slicing, which is interpreted and thus slower.\n",
        "\n",
        "In contrast, Python lists are high-level objects, and slicing a list involves creating a new list, copying references of the elements from the original list to the new list. This process can be relatively slow.\n",
        "\n",
        "#No Need for Python Object Wrapping:\n",
        "In NumPy, elements are stored as fixed-size, homogeneously typed objects (e.g., int32, float64), which means that slicing can directly reference the raw data in memory without needing to wrap the values in Python objects.\n",
        "\n",
        "Python lists, however, store elements as references to Python objects, which adds overhead in terms of memory access and object management.\n",
        "\n",
        "#Broadcasting and Advanced Indexing:\n",
        "NumPy arrays also support broadcasting and advanced indexing mechanisms, which allow for more efficient slicing and manipulation of data across multiple dimensions. This advanced slicing mechanism is highly optimized for performance."
      ],
      "metadata": {
        "id": "76uR1HSfpmeG"
      }
    },
    {
      "cell_type": "markdown",
      "source": [
        "22- What are some common use cases for Seaborn?\n",
        "#Visualizing Distributions\n",
        "Histograms: Seaborn allows you to plot histograms of your data with seaborn.histplot() to understand the distribution of a variable.\n",
        "\n",
        "KDE (Kernel Density Estimation) Plots: Seaborn's seaborn.kdeplot() is great for visualizing continuous distributions and estimating the probability density of a variable.\n",
        "\n",
        "Box Plots: seaborn.boxplot() helps to summarize the distribution of a dataset by showing the median, quartiles, and outliers.\n",
        "\n",
        "Violin Plots: seaborn.violinplot() combines aspects of both box plots and KDEs, showing the distribution of the data along with a probability density function.\n",
        "\n",
        "#Exploring Relationships between Variables\n",
        "Scatter Plots: You can use seaborn.scatterplot() to visualize the relationship between two continuous variables.\n",
        "\n",
        "Pair Plots: With seaborn.pairplot(), you can plot pairwise relationships in a dataset, making it useful for identifying correlations.\n",
        "\n",
        "Regression Plots: seaborn.regplot() is useful for plotting linear regressions, and seaborn.lmplot() can handle more complex datasets with multiple variables.\n",
        "\n",
        "#Categorical Data Visualization\n",
        "Bar Plots: seaborn.barplot() is commonly used to summarize categorical data, displaying the mean value of a variable per category.\n",
        "\n",
        "Count Plots: seaborn.countplot() is useful for visualizing the number of observations in each category of a categorical variable.\n",
        "\n",
        "Strip Plots and Swarm Plots: These are used for showing individual data points in relation to categorical variables with seaborn.stripplot() and seaborn.swarmplot(), respectively.\n",
        "\n",
        "#Heatmaps\n",
        "Correlation Matrices: Seaborn's seaborn.heatmap() is used to visualize correlation matrices or any 2D data where the values are displayed as colors in a matrix grid."
      ],
      "metadata": {
        "id": "QeF5DhxbpmbD"
      }
    },
    {
      "cell_type": "markdown",
      "source": [
        "#Data Toolkit Practical Questions"
      ],
      "metadata": {
        "id": "YFASAOdEpmX7"
      }
    },
    {
      "cell_type": "code",
      "source": [
        "#1- How do you create a 2D NumPy array and calculate the sum of each row?\n",
        "\n",
        "#Import NumPy\n",
        "import numpy as np\n",
        "\n",
        "#Create a 2D Array\n",
        "arr = np.array([[1, 2, 3],\n",
        "                [4, 5, 6],\n",
        "                [7, 8, 9]])\n",
        "\n",
        "# Calculate the Sum of Each Row\n",
        "sum_array = np.sum(arr, axis=1)\n",
        "\n",
        "#Printing the Result\n",
        "print(f\"Original 2Darray : {arr}\")\n",
        "print(f\"Sum of each row : {sum_array}\")"
      ],
      "metadata": {
        "colab": {
          "base_uri": "https://localhost:8080/"
        },
        "id": "nDB79XouzX7f",
        "outputId": "bb87aae6-8f60-4b3c-8236-4fd169b16315"
      },
      "execution_count": null,
      "outputs": [
        {
          "output_type": "stream",
          "name": "stdout",
          "text": [
            "Original 2Darray : [[1 2 3]\n",
            " [4 5 6]\n",
            " [7 8 9]]\n",
            "Sum of each row : [ 6 15 24]\n"
          ]
        }
      ]
    },
    {
      "cell_type": "code",
      "source": [
        "#2- Write a Pandas script to find the mean of a specific column in a DataFrame.\n",
        "\n",
        "#importing pandas\n",
        "import pandas as pd\n",
        "\n",
        "# Sample DataFrame\n",
        "data = {\n",
        "    'name' : ['Alice', 'Sam', 'Bob'],\n",
        "    'Age' : [25, 27, 24],\n",
        "    'Salary' : [60000, 70000, 60500]\n",
        "}\n",
        "\n",
        "df = pd.DataFrame(data)\n",
        "\n",
        "# Calculate the mean of the 'Salary' column\n",
        "mean_salary = df['Salary'].mean()\n",
        "\n",
        "print(f\"Mean of the 'Salary' column: {mean_salary}\")"
      ],
      "metadata": {
        "colab": {
          "base_uri": "https://localhost:8080/"
        },
        "id": "3LvUvQHpzX4L",
        "outputId": "81060b42-272a-4ff9-cdc6-b034330ec730"
      },
      "execution_count": null,
      "outputs": [
        {
          "output_type": "stream",
          "name": "stdout",
          "text": [
            "Mean of the 'Salary' column: 63500.0\n"
          ]
        }
      ]
    },
    {
      "cell_type": "code",
      "source": [
        "#3- Create a scatter plot using Matplotlib.\n",
        "\n",
        "#importing matplotlib with pyplot\n",
        "import matplotlib.pyplot as plt\n",
        "\n",
        "# Sample data\n",
        "x = [10, 20, 30, 40, 50]\n",
        "y = [10, 25, 20, 45, 55]\n",
        "\n",
        "# Create scatter plot\n",
        "plt.scatter(x, y, color = 'blue', marker = 'o')\n",
        "\n",
        "# Add title and label\n",
        "plt.title(\"Simple Scatter Plot\")\n",
        "plt.xlabel(\"X axis\")\n",
        "plt.ylabel(\"Y axis\")\n",
        "\n",
        "# Show plot\n",
        "plt.show()\n"
      ],
      "metadata": {
        "colab": {
          "base_uri": "https://localhost:8080/",
          "height": 472
        },
        "id": "wpUxA_OazX1T",
        "outputId": "9de9faf2-e073-4698-dff4-20ff07c73758"
      },
      "execution_count": null,
      "outputs": [
        {
          "output_type": "display_data",
          "data": {
            "text/plain": [
              "<Figure size 640x480 with 1 Axes>"
            ],
            "image/png": "[encoded data removed]"
          },
          "metadata": {}
        }
      ]
    },
    {
      "cell_type": "code",
      "source": [
        "#4- How do you calculate the correlation matrix using Seaborn and visualize it with a heatmap?\n",
        "\n",
        "import pandas as pd\n",
        "import numpy as np\n",
        "import seaborn as sns\n",
        "import matplotlib.pyplot as plt\n",
        "\n",
        "# 1. Load your dataset (example with built-in Seaborn data)\n",
        "df = sns.load_dataset('mpg')  # Miles per gallon automotive dataset\n",
        "numeric_df = df.select_dtypes(include=[np.number])  # Select only numeric columns\n",
        "\n",
        "# 2. Calculate correlation matrix\n",
        "corr_matrix = numeric_df.corr()\n",
        "\n",
        "# 3. Create enhanced heatmap visualization\n",
        "plt.figure(figsize=(12, 8))\n",
        "\n",
        "# Custom styling\n",
        "heatmap = sns.heatmap(\n",
        "    corr_matrix,\n",
        "    annot=True,            # Show correlation values\n",
        "    annot_kws={'size': 9}, # Annotation font size\n",
        "    fmt='.2f',             # Round to 2 decimal places\n",
        "    cmap='coolwarm',       # Blue (-1) to Red (+1) colormap\n",
        "    center=0,              # Center at 0 (neutral correlation)\n",
        "    linewidths=0.5,        # Add grid lines\n",
        "    linecolor='white',     # Grid line color\n",
        "    cbar_kws={'shrink': 0.8}  # Color bar sizing\n",
        ")\n",
        "\n",
        "# Improve readability\n",
        "plt.xticks(rotation=45, ha='right')  # Rotate x-axis labels\n",
        "plt.title('Feature Correlation Matrix', pad=20, fontsize=16)\n",
        "plt.tight_layout()\n",
        "\n",
        "# 4. Display the plot\n",
        "plt.show()"
      ],
      "metadata": {
        "colab": {
          "base_uri": "https://localhost:8080/",
          "height": 806
        },
        "id": "Kblfi5jUzXyO",
        "outputId": "f3d464ca-d587-4d81-a017-b2df7dd84e20"
      },
      "execution_count": null,
      "outputs": [
        {
          "output_type": "display_data",
          "data": {
            "text/plain": [
              "<Figure size 1200x800 with 2 Axes>"
            ],
            "image/png": "[encoded data removed]"
          },
          "metadata": {}
        }
      ]
    },
    {
      "cell_type": "code",
      "source": [
        "#5- Generate a bar plot using Plotly.\n",
        "\n",
        "import plotly.express as px\n",
        "import pandas as pd\n",
        "\n",
        "# Sample data\n",
        "data = {\n",
        "    \"Fruits\": [\"Apples\", \"Bananas\", \"Cherries\", \"Dates\"],\n",
        "    \"Quantity\": [10, 15, 7, 12]\n",
        "}\n",
        "\n",
        "df = pd.DataFrame(data)\n",
        "\n",
        "# Create bar plot\n",
        "fig = px.bar(df, x=\"Fruits\", y=\"Quantity\", title=\"Fruit Quantity Bar Plot\")\n",
        "\n",
        "# Show the figure\n",
        "fig.show()\n"
      ],
      "metadata": {
        "colab": {
          "base_uri": "https://localhost:8080/",
          "height": 542
        },
        "id": "OVvxSpPZzXsw",
        "outputId": "226f5458-3ea9-4902-bbdf-3e64c1a20f5e"
      },
      "execution_count": null,
      "outputs": [
        {
          "output_type": "display_data",
          "data": {
            "text/html": [
              "<html>\n",
              "<head><meta charset=\"utf-8\" /></head>\n",
              "<body>\n",
              "    <div>            <script src=\"https://cdnjs.cloudflare.com/ajax/libs/mathjax/2.7.5/MathJax.js?config=TeX-AMS-MML_SVG\"></script><script type=\"text/javascript\">if (window.MathJax && window.MathJax.Hub && window.MathJax.Hub.Config) {window.MathJax.Hub.Config({SVG: {font: \"STIX-Web\"}});}</script>                <script type=\"text/javascript\">window.PlotlyConfig = {MathJaxConfig: 'local'};</script>\n",
              "        <script charset=\"utf-8\" src=\"https://cdn.plot.ly/plotly-2.35.2.min.js\"></script>                <div id=\"ddcfc1d3-e8ec-431b-8bc2-7cd034d56509\" class=\"plotly-graph-div\" style=\"height:525px; width:100%;\"></div>            <script type=\"text/javascript\">                                    window.PLOTLYENV=window.PLOTLYENV || {};                                    if (document.getElementById(\"ddcfc1d3-e8ec-431b-8bc2-7cd034d56509\")) {                    Plotly.newPlot(                        \"ddcfc1d3-e8ec-431b-8bc2-7cd034d56509\",                        [{\"alignmentgroup\":\"True\",\"hovertemplate\":\"Fruits=%{x}\\u003cbr\\u003eQuantity=%{y}\\u003cextra\\u003e\\u003c\\u002fextra\\u003e\",\"legendgroup\":\"\",\"marker\":{\"color\":\"#636efa\",\"pattern\":{\"shape\":\"\"}},\"name\":\"\",\"offsetgroup\":\"\",\"orientation\":\"v\",\"showlegend\":false,\"textposition\":\"auto\",\"x\":[\"Apples\",\"Bananas\",\"Cherries\",\"Dates\"],\"xaxis\":\"x\",\"y\":[10,15,7,12],\"yaxis\":\"y\",\"type\":\"bar\"}],                        {\"template\":{\"data\":{\"histogram2dcontour\":[{\"type\":\"histogram2dcontour\",\"colorbar\":{\"outlinewidth\":0,\"ticks\":\"\"},\"colorscale\":[[0.0,\"#0d0887\"],[0.1111111111111111,\"#46039f\"],[0.2222222222222222,\"#7201a8\"],[0.3333333333333333,\"#9c179e\"],[0.4444444444444444,\"#bd3786\"],[0.5555555555555556,\"#d8576b\"],[0.6666666666666666,\"#ed7953\"],[0.7777777777777778,\"#fb9f3a\"],[0.8888888888888888,\"#fdca26\"],[1.0,\"#f0f921\"]]}],\"choropleth\":[{\"type\":\"choropleth\",\"colorbar\":{\"outlinewidth\":0,\"ticks\":\"\"}}],\"histogram2d\":[{\"type\":\"histogram2d\",\"colorbar\":{\"outlinewidth\":0,\"ticks\":\"\"},\"colorscale\":[[0.0,\"#0d0887\"],[0.1111111111111111,\"#46039f\"],[0.2222222222222222,\"#7201a8\"],[0.3333333333333333,\"#9c179e\"],[0.4444444444444444,\"#bd3786\"],[0.5555555555555556,\"#d8576b\"],[0.6666666666666666,\"#ed7953\"],[0.7777777777777778,\"#fb9f3a\"],[0.8888888888888888,\"#fdca26\"],[1.0,\"#f0f921\"]]}],\"heatmap\":[{\"type\":\"heatmap\",\"colorbar\":{\"outlinewidth\":0,\"ticks\":\"\"},\"colorscale\":[[0.0,\"#0d0887\"],[0.1111111111111111,\"#46039f\"],[0.2222222222222222,\"#7201a8\"],[0.3333333333333333,\"#9c179e\"],[0.4444444444444444,\"#bd3786\"],[0.5555555555555556,\"#d8576b\"],[0.6666666666666666,\"#ed7953\"],[0.7777777777777778,\"#fb9f3a\"],[0.8888888888888888,\"#fdca26\"],[1.0,\"#f0f921\"]]}],\"heatmapgl\":[{\"type\":\"heatmapgl\",\"colorbar\":{\"outlinewidth\":0,\"ticks\":\"\"},\"colorscale\":[[0.0,\"#0d0887\"],[0.1111111111111111,\"#46039f\"],[0.2222222222222222,\"#7201a8\"],[0.3333333333333333,\"#9c179e\"],[0.4444444444444444,\"#bd3786\"],[0.5555555555555556,\"#d8576b\"],[0.6666666666666666,\"#ed7953\"],[0.7777777777777778,\"#fb9f3a\"],[0.8888888888888888,\"#fdca26\"],[1.0,\"#f0f921\"]]}],\"contourcarpet\":[{\"type\":\"contourcarpet\",\"colorbar\":{\"outlinewidth\":0,\"ticks\":\"\"}}],\"contour\":[{\"type\":\"contour\",\"colorbar\":{\"outlinewidth\":0,\"ticks\":\"\"},\"colorscale\":[[0.0,\"#0d0887\"],[0.1111111111111111,\"#46039f\"],[0.2222222222222222,\"#7201a8\"],[0.3333333333333333,\"#9c179e\"],[0.4444444444444444,\"#bd3786\"],[0.5555555555555556,\"#d8576b\"],[0.6666666666666666,\"#ed7953\"],[0.7777777777777778,\"#fb9f3a\"],[0.8888888888888888,\"#fdca26\"],[1.0,\"#f0f921\"]]}],\"surface\":[{\"type\":\"surface\",\"colorbar\":{\"outlinewidth\":0,\"ticks\":\"\"},\"colorscale\":[[0.0,\"#0d0887\"],[0.1111111111111111,\"#46039f\"],[0.2222222222222222,\"#7201a8\"],[0.3333333333333333,\"#9c179e\"],[0.4444444444444444,\"#bd3786\"],[0.5555555555555556,\"#d8576b\"],[0.6666666666666666,\"#ed7953\"],[0.7777777777777778,\"#fb9f3a\"],[0.8888888888888888,\"#fdca26\"],[1.0,\"#f0f921\"]]}],\"mesh3d\":[{\"type\":\"mesh3d\",\"colorbar\":{\"outlinewidth\":0,\"ticks\":\"\"}}],\"scatter\":[{\"fillpattern\":{\"fillmode\":\"overlay\",\"size\":10,\"solidity\":0.2},\"type\":\"scatter\"}],\"parcoords\":[{\"type\":\"parcoords\",\"line\":{\"colorbar\":{\"outlinewidth\":0,\"ticks\":\"\"}}}],\"scatterpolargl\":[{\"type\":\"scatterpolargl\",\"marker\":{\"colorbar\":{\"outlinewidth\":0,\"ticks\":\"\"}}}],\"bar\":[{\"error_x\":{\"color\":\"#2a3f5f\"},\"error_y\":{\"color\":\"#2a3f5f\"},\"marker\":{\"line\":{\"color\":\"#E5ECF6\",\"width\":0.5},\"pattern\":{\"fillmode\":\"overlay\",\"size\":10,\"solidity\":0.2}},\"type\":\"bar\"}],\"scattergeo\":[{\"type\":\"scattergeo\",\"marker\":{\"colorbar\":{\"outlinewidth\":0,\"ticks\":\"\"}}}],\"scatterpolar\":[{\"type\":\"scatterpolar\",\"marker\":{\"colorbar\":{\"outlinewidth\":0,\"ticks\":\"\"}}}],\"histogram\":[{\"marker\":{\"pattern\":{\"fillmode\":\"overlay\",\"size\":10,\"solidity\":0.2}},\"type\":\"histogram\"}],\"scattergl\":[{\"type\":\"scattergl\",\"marker\":{\"colorbar\":{\"outlinewidth\":0,\"ticks\":\"\"}}}],\"scatter3d\":[{\"type\":\"scatter3d\",\"line\":{\"colorbar\":{\"outlinewidth\":0,\"ticks\":\"\"}},\"marker\":{\"colorbar\":{\"outlinewidth\":0,\"ticks\":\"\"}}}],\"scattermapbox\":[{\"type\":\"scattermapbox\",\"marker\":{\"colorbar\":{\"outlinewidth\":0,\"ticks\":\"\"}}}],\"scatterternary\":[{\"type\":\"scatterternary\",\"marker\":{\"colorbar\":{\"outlinewidth\":0,\"ticks\":\"\"}}}],\"scattercarpet\":[{\"type\":\"scattercarpet\",\"marker\":{\"colorbar\":{\"outlinewidth\":0,\"ticks\":\"\"}}}],\"carpet\":[{\"aaxis\":{\"endlinecolor\":\"#2a3f5f\",\"gridcolor\":\"white\",\"linecolor\":\"white\",\"minorgridcolor\":\"white\",\"startlinecolor\":\"#2a3f5f\"},\"baxis\":{\"endlinecolor\":\"#2a3f5f\",\"gridcolor\":\"white\",\"linecolor\":\"white\",\"minorgridcolor\":\"white\",\"startlinecolor\":\"#2a3f5f\"},\"type\":\"carpet\"}],\"table\":[{\"cells\":{\"fill\":{\"color\":\"#EBF0F8\"},\"line\":{\"color\":\"white\"}},\"header\":{\"fill\":{\"color\":\"#C8D4E3\"},\"line\":{\"color\":\"white\"}},\"type\":\"table\"}],\"barpolar\":[{\"marker\":{\"line\":{\"color\":\"#E5ECF6\",\"width\":0.5},\"pattern\":{\"fillmode\":\"overlay\",\"size\":10,\"solidity\":0.2}},\"type\":\"barpolar\"}],\"pie\":[{\"automargin\":true,\"type\":\"pie\"}]},\"layout\":{\"autotypenumbers\":\"strict\",\"colorway\":[\"#636efa\",\"#EF553B\",\"#00cc96\",\"#ab63fa\",\"#FFA15A\",\"#19d3f3\",\"#FF6692\",\"#B6E880\",\"#FF97FF\",\"#FECB52\"],\"font\":{\"color\":\"#2a3f5f\"},\"hovermode\":\"closest\",\"hoverlabel\":{\"align\":\"left\"},\"paper_bgcolor\":\"white\",\"plot_bgcolor\":\"#E5ECF6\",\"polar\":{\"bgcolor\":\"#E5ECF6\",\"angularaxis\":{\"gridcolor\":\"white\",\"linecolor\":\"white\",\"ticks\":\"\"},\"radialaxis\":{\"gridcolor\":\"white\",\"linecolor\":\"white\",\"ticks\":\"\"}},\"ternary\":{\"bgcolor\":\"#E5ECF6\",\"aaxis\":{\"gridcolor\":\"white\",\"linecolor\":\"white\",\"ticks\":\"\"},\"baxis\":{\"gridcolor\":\"white\",\"linecolor\":\"white\",\"ticks\":\"\"},\"caxis\":{\"gridcolor\":\"white\",\"linecolor\":\"white\",\"ticks\":\"\"}},\"coloraxis\":{\"colorbar\":{\"outlinewidth\":0,\"ticks\":\"\"}},\"colorscale\":{\"sequential\":[[0.0,\"#0d0887\"],[0.1111111111111111,\"#46039f\"],[0.2222222222222222,\"#7201a8\"],[0.3333333333333333,\"#9c179e\"],[0.4444444444444444,\"#bd3786\"],[0.5555555555555556,\"#d8576b\"],[0.6666666666666666,\"#ed7953\"],[0.7777777777777778,\"#fb9f3a\"],[0.8888888888888888,\"#fdca26\"],[1.0,\"#f0f921\"]],\"sequentialminus\":[[0.0,\"#0d0887\"],[0.1111111111111111,\"#46039f\"],[0.2222222222222222,\"#7201a8\"],[0.3333333333333333,\"#9c179e\"],[0.4444444444444444,\"#bd3786\"],[0.5555555555555556,\"#d8576b\"],[0.6666666666666666,\"#ed7953\"],[0.7777777777777778,\"#fb9f3a\"],[0.8888888888888888,\"#fdca26\"],[1.0,\"#f0f921\"]],\"diverging\":[[0,\"#8e0152\"],[0.1,\"#c51b7d\"],[0.2,\"#de77ae\"],[0.3,\"#f1b6da\"],[0.4,\"#fde0ef\"],[0.5,\"#f7f7f7\"],[0.6,\"#e6f5d0\"],[0.7,\"#b8e186\"],[0.8,\"#7fbc41\"],[0.9,\"#4d9221\"],[1,\"#276419\"]]},\"xaxis\":{\"gridcolor\":\"white\",\"linecolor\":\"white\",\"ticks\":\"\",\"title\":{\"standoff\":15},\"zerolinecolor\":\"white\",\"automargin\":true,\"zerolinewidth\":2},\"yaxis\":{\"gridcolor\":\"white\",\"linecolor\":\"white\",\"ticks\":\"\",\"title\":{\"standoff\":15},\"zerolinecolor\":\"white\",\"automargin\":true,\"zerolinewidth\":2},\"scene\":{\"xaxis\":{\"backgroundcolor\":\"#E5ECF6\",\"gridcolor\":\"white\",\"linecolor\":\"white\",\"showbackground\":true,\"ticks\":\"\",\"zerolinecolor\":\"white\",\"gridwidth\":2},\"yaxis\":{\"backgroundcolor\":\"#E5ECF6\",\"gridcolor\":\"white\",\"linecolor\":\"white\",\"showbackground\":true,\"ticks\":\"\",\"zerolinecolor\":\"white\",\"gridwidth\":2},\"zaxis\":{\"backgroundcolor\":\"#E5ECF6\",\"gridcolor\":\"white\",\"linecolor\":\"white\",\"showbackground\":true,\"ticks\":\"\",\"zerolinecolor\":\"white\",\"gridwidth\":2}},\"shapedefaults\":{\"line\":{\"color\":\"#2a3f5f\"}},\"annotationdefaults\":{\"arrowcolor\":\"#2a3f5f\",\"arrowhead\":0,\"arrowwidth\":1},\"geo\":{\"bgcolor\":\"white\",\"landcolor\":\"#E5ECF6\",\"subunitcolor\":\"white\",\"showland\":true,\"showlakes\":true,\"lakecolor\":\"white\"},\"title\":{\"x\":0.05},\"mapbox\":{\"style\":\"light\"}}},\"xaxis\":{\"anchor\":\"y\",\"domain\":[0.0,1.0],\"title\":{\"text\":\"Fruits\"}},\"yaxis\":{\"anchor\":\"x\",\"domain\":[0.0,1.0],\"title\":{\"text\":\"Quantity\"}},\"legend\":{\"tracegroupgap\":0},\"title\":{\"text\":\"Fruit Quantity Bar Plot\"},\"barmode\":\"relative\"},                        {\"responsive\": true}                    ).then(function(){\n",
              "                            \n",
              "var gd = document.getElementById('ddcfc1d3-e8ec-431b-8bc2-7cd034d56509');\n",
              "var x = new MutationObserver(function (mutations, observer) {{\n",
              "        var display = window.getComputedStyle(gd).display;\n",
              "        if (!display || display === 'none') {{\n",
              "            console.log([gd, 'removed!']);\n",
              "            Plotly.purge(gd);\n",
              "            observer.disconnect();\n",
              "        }}\n",
              "}});\n",
              "\n",
              "// Listen for the removal of the full notebook cells\n",
              "var notebookContainer = gd.closest('#notebook-container');\n",
              "if (notebookContainer) {{\n",
              "    x.observe(notebookContainer, {childList: true});\n",
              "}}\n",
              "\n",
              "// Listen for the clearing of the current output cell\n",
              "var outputEl = gd.closest('.output');\n",
              "if (outputEl) {{\n",
              "    x.observe(outputEl, {childList: true});\n",
              "}}\n",
              "\n",
              "                        })                };                            </script>        </div>\n",
              "</body>\n",
              "</html>"
            ]
          },
          "metadata": {}
        }
      ]
    },
    {
      "cell_type": "code",
      "source": [
        "#6- Create a DataFrame and add a new column based on an existing column.\n",
        "\n",
        "import pandas as pd\n",
        "\n",
        "# Create a DataFrame\n",
        "data = {\n",
        "    'Name': ['Alice', 'Bob', 'Charlie'],\n",
        "    'Age': [25, 30, 35],\n",
        "    'Salary': [50000, 60000, 70000]\n",
        "}\n",
        "df = pd.DataFrame(data)\n",
        "\n",
        " #Add a new column based on existing columns\n",
        "\n",
        "df['Bonus'] = df['Salary'] * 0.1 # 10% bonus calculation\n",
        "\n",
        "df"
      ],
      "metadata": {
        "colab": {
          "base_uri": "https://localhost:8080/",
          "height": 143
        },
        "id": "coabjAiyzXpj",
        "outputId": "58e54a1d-7640-42cc-ee9a-fa698b142b4a"
      },
      "execution_count": null,
      "outputs": [
        {
          "output_type": "execute_result",
          "data": {
            "text/plain": [
              "      Name  Age  Salary   Bonus\n",
              "0    Alice   25   50000  5000.0\n",
              "1      Bob   30   60000  6000.0\n",
              "2  Charlie   35   70000  7000.0"
            ],
            "text/html": [
              "\n",
              "  <div id=\"df-4a453405-4561-4046-a717-cd923ede5186\" class=\"colab-df-container\">\n",
              "    <div>\n",
              "<style scoped>\n",
              "    .dataframe tbody tr th:only-of-type {\n",
              "        vertical-align: middle;\n",
              "    }\n",
              "\n",
              "    .dataframe tbody tr th {\n",
              "        vertical-align: top;\n",
              "    }\n",
              "\n",
              "    .dataframe thead th {\n",
              "        text-align: right;\n",
              "    }\n",
              "</style>\n",
              "<table border=\"1\" class=\"dataframe\">\n",
              "  <thead>\n",
              "    <tr style=\"text-align: right;\">\n",
              "      <th></th>\n",
              "      <th>Name</th>\n",
              "      <th>Age</th>\n",
              "      <th>Salary</th>\n",
              "      <th>Bonus</th>\n",
              "    </tr>\n",
              "  </thead>\n",
              "  <tbody>\n",
              "    <tr>\n",
              "      <th>0</th>\n",
              "      <td>Alice</td>\n",
              "      <td>25</td>\n",
              "      <td>50000</td>\n",
              "      <td>5000.0</td>\n",
              "    </tr>\n",
              "    <tr>\n",
              "      <th>1</th>\n",
              "      <td>Bob</td>\n",
              "      <td>30</td>\n",
              "      <td>60000</td>\n",
              "      <td>6000.0</td>\n",
              "    </tr>\n",
              "    <tr>\n",
              "      <th>2</th>\n",
              "      <td>Charlie</td>\n",
              "      <td>35</td>\n",
              "      <td>70000</td>\n",
              "      <td>7000.0</td>\n",
              "    </tr>\n",
              "  </tbody>\n",
              "</table>\n",
              "</div>\n",
              "    <div class=\"colab-df-buttons\">\n",
              "\n",
              "  <div class=\"colab-df-container\">\n",
              "    <button class=\"colab-df-convert\" onclick=\"convertToInteractive('df-4a453405-4561-4046-a717-cd923ede5186')\"\n",
              "            title=\"Convert this dataframe to an interactive table.\"\n",
              "            style=\"display:none;\">\n",
              "\n",
              "  <svg xmlns=\"http://www.w3.org/2000/svg\" height=\"24px\" viewBox=\"0 -960 960 960\">\n",
              "    <path d=\"M120-120v-720h720v720H120Zm60-500h600v-160H180v160Zm220 220h160v-160H400v160Zm0 220h160v-160H400v160ZM180-400h160v-160H180v160Zm440 0h160v-160H620v160ZM180-180h160v-160H180v160Zm440 0h160v-160H620v160Z\"/>\n",
              "  </svg>\n",
              "    </button>\n",
              "\n",
              "  <style>\n",
              "    .colab-df-container {\n",
              "      display:flex;\n",
              "      gap: 12px;\n",
              "    }\n",
              "\n",
              "    .colab-df-convert {\n",
              "      background-color: #E8F0FE;\n",
              "      border: none;\n",
              "      border-radius: 50%;\n",
              "      cursor: pointer;\n",
              "      display: none;\n",
              "      fill: #1967D2;\n",
              "      height: 32px;\n",
              "      padding: 0 0 0 0;\n",
              "      width: 32px;\n",
              "    }\n",
              "\n",
              "    .colab-df-convert:hover {\n",
              "      background-color: #E2EBFA;\n",
              "      box-shadow: 0px 1px 2px rgba(60, 64, 67, 0.3), 0px 1px 3px 1px rgba(60, 64, 67, 0.15);\n",
              "      fill: #174EA6;\n",
              "    }\n",
              "\n",
              "    .colab-df-buttons div {\n",
              "      margin-bottom: 4px;\n",
              "    }\n",
              "\n",
              "    [theme=dark] .colab-df-convert {\n",
              "      background-color: #3B4455;\n",
              "      fill: #D2E3FC;\n",
              "    }\n",
              "\n",
              "    [theme=dark] .colab-df-convert:hover {\n",
              "      background-color: #434B5C;\n",
              "      box-shadow: 0px 1px 3px 1px rgba(0, 0, 0, 0.15);\n",
              "      filter: drop-shadow(0px 1px 2px rgba(0, 0, 0, 0.3));\n",
              "      fill: #FFFFFF;\n",
              "    }\n",
              "  </style>\n",
              "\n",
              "    <script>\n",
              "      const buttonEl =\n",
              "        document.querySelector('#df-4a453405-4561-4046-a717-cd923ede5186 button.colab-df-convert');\n",
              "      buttonEl.style.display =\n",
              "        google.colab.kernel.accessAllowed ? 'block' : 'none';\n",
              "\n",
              "      async function convertToInteractive(key) {\n",
              "        const element = document.querySelector('#df-4a453405-4561-4046-a717-cd923ede5186');\n",
              "        const dataTable =\n",
              "          await google.colab.kernel.invokeFunction('convertToInteractive',\n",
              "                                                    [key], {});\n",
              "        if (!dataTable) return;\n",
              "\n",
              "        const docLinkHtml = 'Like what you see? Visit the ' +\n",
              "          '<a target=\"_blank\" href=https://colab.research.google.com/notebooks/data_table.ipynb>data table notebook</a>'\n",
              "          + ' to learn more about interactive tables.';\n",
              "        element.innerHTML = '';\n",
              "        dataTable['output_type'] = 'display_data';\n",
              "        await google.colab.output.renderOutput(dataTable, element);\n",
              "        const docLink = document.createElement('div');\n",
              "        docLink.innerHTML = docLinkHtml;\n",
              "        element.appendChild(docLink);\n",
              "      }\n",
              "    </script>\n",
              "  </div>\n",
              "\n",
              "\n",
              "<div id=\"df-d56b3407-93ca-4d52-85a3-ff876c9362eb\">\n",
              "  <button class=\"colab-df-quickchart\" onclick=\"quickchart('df-d56b3407-93ca-4d52-85a3-ff876c9362eb')\"\n",
              "            title=\"Suggest charts\"\n",
              "            style=\"display:none;\">\n",
              "\n",
              "<svg xmlns=\"http://www.w3.org/2000/svg\" height=\"24px\"viewBox=\"0 0 24 24\"\n",
              "     width=\"24px\">\n",
              "    <g>\n",
              "        <path d=\"M19 3H5c-1.1 0-2 .9-2 2v14c0 1.1.9 2 2 2h14c1.1 0 2-.9 2-2V5c0-1.1-.9-2-2-2zM9 17H7v-7h2v7zm4 0h-2V7h2v10zm4 0h-2v-4h2v4z\"/>\n",
              "    </g>\n",
              "</svg>\n",
              "  </button>\n",
              "\n",
              "<style>\n",
              "  .colab-df-quickchart {\n",
              "      --bg-color: #E8F0FE;\n",
              "      --fill-color: #1967D2;\n",
              "      --hover-bg-color: #E2EBFA;\n",
              "      --hover-fill-color: #174EA6;\n",
              "      --disabled-fill-color: #AAA;\n",
              "      --disabled-bg-color: #DDD;\n",
              "  }\n",
              "\n",
              "  [theme=dark] .colab-df-quickchart {\n",
              "      --bg-color: #3B4455;\n",
              "      --fill-color: #D2E3FC;\n",
              "      --hover-bg-color: #434B5C;\n",
              "      --hover-fill-color: #FFFFFF;\n",
              "      --disabled-bg-color: #3B4455;\n",
              "      --disabled-fill-color: #666;\n",
              "  }\n",
              "\n",
              "  .colab-df-quickchart {\n",
              "    background-color: var(--bg-color);\n",
              "    border: none;\n",
              "    border-radius: 50%;\n",
              "    cursor: pointer;\n",
              "    display: none;\n",
              "    fill: var(--fill-color);\n",
              "    height: 32px;\n",
              "    padding: 0;\n",
              "    width: 32px;\n",
              "  }\n",
              "\n",
              "  .colab-df-quickchart:hover {\n",
              "    background-color: var(--hover-bg-color);\n",
              "    box-shadow: 0 1px 2px rgba(60, 64, 67, 0.3), 0 1px 3px 1px rgba(60, 64, 67, 0.15);\n",
              "    fill: var(--button-hover-fill-color);\n",
              "  }\n",
              "\n",
              "  .colab-df-quickchart-complete:disabled,\n",
              "  .colab-df-quickchart-complete:disabled:hover {\n",
              "    background-color: var(--disabled-bg-color);\n",
              "    fill: var(--disabled-fill-color);\n",
              "    box-shadow: none;\n",
              "  }\n",
              "\n",
              "  .colab-df-spinner {\n",
              "    border: 2px solid var(--fill-color);\n",
              "    border-color: transparent;\n",
              "    border-bottom-color: var(--fill-color);\n",
              "    animation:\n",
              "      spin 1s steps(1) infinite;\n",
              "  }\n",
              "\n",
              "  @keyframes spin {\n",
              "    0% {\n",
              "      border-color: transparent;\n",
              "      border-bottom-color: var(--fill-color);\n",
              "      border-left-color: var(--fill-color);\n",
              "    }\n",
              "    20% {\n",
              "      border-color: transparent;\n",
              "      border-left-color: var(--fill-color);\n",
              "      border-top-color: var(--fill-color);\n",
              "    }\n",
              "    30% {\n",
              "      border-color: transparent;\n",
              "      border-left-color: var(--fill-color);\n",
              "      border-top-color: var(--fill-color);\n",
              "      border-right-color: var(--fill-color);\n",
              "    }\n",
              "    40% {\n",
              "      border-color: transparent;\n",
              "      border-right-color: var(--fill-color);\n",
              "      border-top-color: var(--fill-color);\n",
              "    }\n",
              "    60% {\n",
              "      border-color: transparent;\n",
              "      border-right-color: var(--fill-color);\n",
              "    }\n",
              "    80% {\n",
              "      border-color: transparent;\n",
              "      border-right-color: var(--fill-color);\n",
              "      border-bottom-color: var(--fill-color);\n",
              "    }\n",
              "    90% {\n",
              "      border-color: transparent;\n",
              "      border-bottom-color: var(--fill-color);\n",
              "    }\n",
              "  }\n",
              "</style>\n",
              "\n",
              "  <script>\n",
              "    async function quickchart(key) {\n",
              "      const quickchartButtonEl =\n",
              "        document.querySelector('#' + key + ' button');\n",
              "      quickchartButtonEl.disabled = true;  // To prevent multiple clicks.\n",
              "      quickchartButtonEl.classList.add('colab-df-spinner');\n",
              "      try {\n",
              "        const charts = await google.colab.kernel.invokeFunction(\n",
              "            'suggestCharts', [key], {});\n",
              "      } catch (error) {\n",
              "        console.error('Error during call to suggestCharts:', error);\n",
              "      }\n",
              "      quickchartButtonEl.classList.remove('colab-df-spinner');\n",
              "      quickchartButtonEl.classList.add('colab-df-quickchart-complete');\n",
              "    }\n",
              "    (() => {\n",
              "      let quickchartButtonEl =\n",
              "        document.querySelector('#df-d56b3407-93ca-4d52-85a3-ff876c9362eb button');\n",
              "      quickchartButtonEl.style.display =\n",
              "        google.colab.kernel.accessAllowed ? 'block' : 'none';\n",
              "    })();\n",
              "  </script>\n",
              "</div>\n",
              "\n",
              "  <div id=\"id_696f310d-19f8-4c5a-9568-1a2a464dcdd2\">\n",
              "    <style>\n",
              "      .colab-df-generate {\n",
              "        background-color: #E8F0FE;\n",
              "        border: none;\n",
              "        border-radius: 50%;\n",
              "        cursor: pointer;\n",
              "        display: none;\n",
              "        fill: #1967D2;\n",
              "        height: 32px;\n",
              "        padding: 0 0 0 0;\n",
              "        width: 32px;\n",
              "      }\n",
              "\n",
              "      .colab-df-generate:hover {\n",
              "        background-color: #E2EBFA;\n",
              "        box-shadow: 0px 1px 2px rgba(60, 64, 67, 0.3), 0px 1px 3px 1px rgba(60, 64, 67, 0.15);\n",
              "        fill: #174EA6;\n",
              "      }\n",
              "\n",
              "      [theme=dark] .colab-df-generate {\n",
              "        background-color: #3B4455;\n",
              "        fill: #D2E3FC;\n",
              "      }\n",
              "\n",
              "      [theme=dark] .colab-df-generate:hover {\n",
              "        background-color: #434B5C;\n",
              "        box-shadow: 0px 1px 3px 1px rgba(0, 0, 0, 0.15);\n",
              "        filter: drop-shadow(0px 1px 2px rgba(0, 0, 0, 0.3));\n",
              "        fill: #FFFFFF;\n",
              "      }\n",
              "    </style>\n",
              "    <button class=\"colab-df-generate\" onclick=\"generateWithVariable('df')\"\n",
              "            title=\"Generate code using this dataframe.\"\n",
              "            style=\"display:none;\">\n",
              "\n",
              "  <svg xmlns=\"http://www.w3.org/2000/svg\" height=\"24px\"viewBox=\"0 0 24 24\"\n",
              "       width=\"24px\">\n",
              "    <path d=\"M7,19H8.4L18.45,9,17,7.55,7,17.6ZM5,21V16.75L18.45,3.32a2,2,0,0,1,2.83,0l1.4,1.43a1.91,1.91,0,0,1,.58,1.4,1.91,1.91,0,0,1-.58,1.4L9.25,21ZM18.45,9,17,7.55Zm-12,3A5.31,5.31,0,0,0,4.9,8.1,5.31,5.31,0,0,0,1,6.5,5.31,5.31,0,0,0,4.9,4.9,5.31,5.31,0,0,0,6.5,1,5.31,5.31,0,0,0,8.1,4.9,5.31,5.31,0,0,0,12,6.5,5.46,5.46,0,0,0,6.5,12Z\"/>\n",
              "  </svg>\n",
              "    </button>\n",
              "    <script>\n",
              "      (() => {\n",
              "      const buttonEl =\n",
              "        document.querySelector('#id_696f310d-19f8-4c5a-9568-1a2a464dcdd2 button.colab-df-generate');\n",
              "      buttonEl.style.display =\n",
              "        google.colab.kernel.accessAllowed ? 'block' : 'none';\n",
              "\n",
              "      buttonEl.onclick = () => {\n",
              "        google.colab.notebook.generateWithVariable('df');\n",
              "      }\n",
              "      })();\n",
              "    </script>\n",
              "  </div>\n",
              "\n",
              "    </div>\n",
              "  </div>\n"
            ],
            "application/vnd.google.colaboratory.intrinsic+json": {
              "type": "dataframe",
              "variable_name": "df",
              "summary": "{\n  \"name\": \"df\",\n  \"rows\": 3,\n  \"fields\": [\n    {\n      \"column\": \"Name\",\n      \"properties\": {\n        \"dtype\": \"string\",\n        \"num_unique_values\": 3,\n        \"samples\": [\n          \"Alice\",\n          \"Bob\",\n          \"Charlie\"\n        ],\n        \"semantic_type\": \"\",\n        \"description\": \"\"\n      }\n    },\n    {\n      \"column\": \"Age\",\n      \"properties\": {\n        \"dtype\": \"number\",\n        \"std\": 5,\n        \"min\": 25,\n        \"max\": 35,\n        \"num_unique_values\": 3,\n        \"samples\": [\n          25,\n          30,\n          35\n        ],\n        \"semantic_type\": \"\",\n        \"description\": \"\"\n      }\n    },\n    {\n      \"column\": \"Salary\",\n      \"properties\": {\n        \"dtype\": \"number\",\n        \"std\": 10000,\n        \"min\": 50000,\n        \"max\": 70000,\n        \"num_unique_values\": 3,\n        \"samples\": [\n          50000,\n          60000,\n          70000\n        ],\n        \"semantic_type\": \"\",\n        \"description\": \"\"\n      }\n    },\n    {\n      \"column\": \"Bonus\",\n      \"properties\": {\n        \"dtype\": \"number\",\n        \"std\": 1000.0,\n        \"min\": 5000.0,\n        \"max\": 7000.0,\n        \"num_unique_values\": 3,\n        \"samples\": [\n          5000.0,\n          6000.0,\n          7000.0\n        ],\n        \"semantic_type\": \"\",\n        \"description\": \"\"\n      }\n    }\n  ]\n}"
            }
          },
          "metadata": {},
          "execution_count": 24
        }
      ]
    },
    {
      "cell_type": "code",
      "source": [
        "#7-  Write a program to perform element-wise multiplication of two NumPy arrays.\n",
        "\n",
        "import numpy as np\n",
        "\n",
        "# Define two NumPy arrays\n",
        "array1 = np.random.randint(1, 5, (4, 4))\n",
        "array2 = np.random.randint(1, 5, (4, 4))\n",
        "\n",
        "# Perform element-wise multiplication\n",
        "result = array1 * array2\n",
        "\n",
        "# Print the result\n",
        "print(f\"array1 : {array1}\")\n",
        "print(f\"array2 : {array2}\")\n",
        "print(f\"multiplication of array1 and array2 : {result}\")"
      ],
      "metadata": {
        "colab": {
          "base_uri": "https://localhost:8080/"
        },
        "id": "WXqrQSRIzXma",
        "outputId": "b9ce359c-84fc-4752-c381-c34c54484fbd"
      },
      "execution_count": null,
      "outputs": [
        {
          "output_type": "stream",
          "name": "stdout",
          "text": [
            "array1 : [[1 3 2 1]\n",
            " [1 1 4 4]\n",
            " [3 4 4 1]\n",
            " [3 4 2 4]]\n",
            "array2 : [[2 1 4 3]\n",
            " [4 3 4 3]\n",
            " [4 1 4 2]\n",
            " [4 4 4 1]]\n",
            "multiplication of array1 and array2 : [[ 2  3  8  3]\n",
            " [ 4  3 16 12]\n",
            " [12  4 16  2]\n",
            " [12 16  8  4]]\n"
          ]
        }
      ]
    },
    {
      "cell_type": "code",
      "source": [
        "#8- Create a line plot with multiple lines using Matplotlib.\n",
        "\n",
        "import matplotlib.pyplot as plt\n",
        "\n",
        "# Sample data\n",
        "x= [1, 2, 3, 4, 5]\n",
        "\n",
        "# Multiple lines with different y-values\n",
        "y1 = [2, 3, 5, 7, 11]\n",
        "y2 = [1, 4, 6, 5, 10]\n",
        "y3 = [3, 6, 9, 8, 15]\n",
        "\n",
        "# Create the plot\n",
        "plt.plot(x, y1, color = 'red', marker= 'o', label='Line 1')\n",
        "plt.plot(x, y2, color = 'b', marker= 'o', label='Line 2')\n",
        "plt.plot(x, y3, color = 'orange', marker= 'o', label='Line 3')\n",
        "\n",
        "# Add titles and labels\n",
        "plt.title('Multiple Line Plot')\n",
        "plt.xlabel('X axis')\n",
        "plt.ylabel('Y axis')\n",
        "\n",
        "# Show legend\n",
        "plt.legend()\n",
        "\n",
        "# Show grid\n",
        "plt.grid(True)\n",
        "# Display the plot\n",
        "plt.show()"
      ],
      "metadata": {
        "colab": {
          "base_uri": "https://localhost:8080/",
          "height": 472
        },
        "id": "siKvZE6azXjY",
        "outputId": "c5819ae5-e7fa-48ee-d0e3-f9fb70d3bc1f"
      },
      "execution_count": null,
      "outputs": [
        {
          "output_type": "display_data",
          "data": {
            "text/plain": [
              "<Figure size 640x480 with 1 Axes>"
            ],
            "image/png": "[encoded data removed]"
          },
          "metadata": {}
        }
      ]
    },
    {
      "cell_type": "code",
      "source": [
        "#9- Generate a Pandas DataFrame and filter rows where a column value is greater than a threshold.\n",
        "\n",
        "import pandas as pd\n",
        "\n",
        "# Create a sample DataFrame\n",
        "data = {\n",
        "    'Name': ['Alice', 'Bob', 'Charlie', 'David', 'Eva'],\n",
        "    'Score': [85, 62, 90, 70, 88]\n",
        "}\n",
        "\n",
        "df = pd.DataFrame(data)\n",
        "\n",
        "# Set a threshold\n",
        "threshold = 75\n",
        "\n",
        "# Filter rows where 'Score' is greater than the threshold\n",
        "filtered_df = df[df['Score'] > threshold]\n",
        "\n",
        "# Display the result\n",
        "print(filtered_df)\n"
      ],
      "metadata": {
        "colab": {
          "base_uri": "https://localhost:8080/"
        },
        "id": "wuGNk1JUzXgP",
        "outputId": "d827ef6a-5f70-4fba-b0d8-4486440358b9"
      },
      "execution_count": null,
      "outputs": [
        {
          "output_type": "stream",
          "name": "stdout",
          "text": [
            "      Name  Score\n",
            "0    Alice     85\n",
            "2  Charlie     90\n",
            "4      Eva     88\n"
          ]
        }
      ]
    },
    {
      "cell_type": "code",
      "source": [
        "#10- Create a histogram using Seaborn to visualize a distribution.\n",
        "\n",
        "import seaborn as sns\n",
        "import matplotlib.pyplot as plt\n",
        "import pandas as pd\n",
        "import numpy as np\n",
        "\n",
        "# Create a DataFrame with random data\n",
        "np.random.seed(42)  # for reproducibility\n",
        "data = pd.DataFrame({\n",
        "    'Scores': np.random.normal(loc=70, scale=10, size=100)  # normal distribution\n",
        "})\n",
        "\n",
        "# Create a histogram using Seaborn\n",
        "sns.histplot(data['Scores'], bins=10, kde=True, color='skyblue')\n",
        "\n",
        "# Add titles and labels\n",
        "plt.title('Distribution of Scores')\n",
        "plt.xlabel('Score')\n",
        "plt.ylabel('Frequency')\n",
        "\n",
        "# Show the plot\n",
        "plt.show()\n"
      ],
      "metadata": {
        "colab": {
          "base_uri": "https://localhost:8080/",
          "height": 472
        },
        "id": "pqBywxxPzXdC",
        "outputId": "83b9ace4-e835-4560-f799-2556a58887ca"
      },
      "execution_count": null,
      "outputs": [
        {
          "output_type": "display_data",
          "data": {
            "text/plain": [
              "<Figure size 640x480 with 1 Axes>"
            ],
            "image/png": "[encoded data removed]"
          },
          "metadata": {}
        }
      ]
    },
    {
      "cell_type": "code",
      "source": [
        "#11- Perform matrix multiplication using NumPy.\n",
        "\n",
        "import numpy as np\n",
        "\n",
        "# Define two matrices\n",
        "A = np.array([[1, 2],\n",
        "              [3, 4]])\n",
        "\n",
        "B = np.array([[5, 6],\n",
        "              [7, 8]])\n",
        "\n",
        "\n",
        "# Perform matrix multiplication\n",
        "result = A @ B  # you can use this method np.dot(A, B)\n",
        "\n",
        "# Display the result\n",
        "print(\"Matrix A:\")\n",
        "print(A)\n",
        "\n",
        "print(\"\\nMatrix B:\")\n",
        "print(B)\n",
        "\n",
        "print(\"\\nResult of A x B:\")\n",
        "print(result)"
      ],
      "metadata": {
        "colab": {
          "base_uri": "https://localhost:8080/"
        },
        "id": "sSFhkAx6zXaB",
        "outputId": "93c3d3d7-0f76-4b40-ad6f-34da74cd7ab4"
      },
      "execution_count": null,
      "outputs": [
        {
          "output_type": "stream",
          "name": "stdout",
          "text": [
            "Matrix A:\n",
            "[[1 2]\n",
            " [3 4]]\n",
            "\n",
            "Matrix B:\n",
            "[[5 6]\n",
            " [7 8]]\n",
            "\n",
            "Result of A x B:\n",
            "[[19 22]\n",
            " [43 50]]\n"
          ]
        }
      ]
    },
    {
      "cell_type": "code",
      "source": [
        "#12- Use Pandas to load a CSV file and display its first 5 rows.\n",
        "\n",
        "import pandas as pd\n",
        "\n",
        "# Load a CSV file into a DataFrame (replace 'file_path.csv' with your file path)\n",
        "df = pd.read_csv('services.csv')\n",
        "\n",
        "# Display the first 5 rows of the DataFrame\n",
        "df.head(5)"
      ],
      "metadata": {
        "id": "n3B9pwdPTFdu"
      },
      "execution_count": null,
      "outputs": []
    },
    {
      "cell_type": "code",
      "source": [
        "#13- Create a 3D scatter plot using Plotly.\n",
        "\n",
        "import plotly.express as px\n",
        "import pandas as pd\n",
        "import numpy as np\n",
        "\n",
        "# Create a sample dataset\n",
        "np.random.seed(42)\n",
        "n = 100  # number of points\n",
        "data = {\n",
        "    'x': np.random.rand(n),\n",
        "    'y': np.random.rand(n),\n",
        "    'z': np.random.rand(n),\n",
        "    'color': np.random.rand(n)\n",
        "}\n",
        "\n",
        "df = pd.DataFrame(data)\n",
        "\n",
        "# Create the 3D scatter plot\n",
        "fig = px.scatter_3d(df, x='x', y='y', z='z', color='color', title=\"3D Scatter Plot\")\n",
        "fig.show()\n"
      ],
      "metadata": {
        "id": "gKQqfx7IQBL8",
        "colab": {
          "base_uri": "https://localhost:8080/",
          "height": 542
        },
        "outputId": "e6c9e1e6-2748-45c1-9260-b4d5df748b1e"
      },
      "execution_count": 61,
      "outputs": [
        {
          "output_type": "display_data",
          "data": {
            "text/html": [
              "<html>\n",
              "<head><meta charset=\"utf-8\" /></head>\n",
              "<body>\n",
              "    <div>            <script src=\"https://cdnjs.cloudflare.com/ajax/libs/mathjax/2.7.5/MathJax.js?config=TeX-AMS-MML_SVG\"></script><script type=\"text/javascript\">if (window.MathJax && window.MathJax.Hub && window.MathJax.Hub.Config) {window.MathJax.Hub.Config({SVG: {font: \"STIX-Web\"}});}</script>                <script type=\"text/javascript\">window.PlotlyConfig = {MathJaxConfig: 'local'};</script>\n",
              "        <script charset=\"utf-8\" src=\"https://cdn.plot.ly/plotly-2.35.2.min.js\"></script>                <div id=\"e7e8939b-a107-412c-a00f-43ac46bf3020\" class=\"plotly-graph-div\" style=\"height:525px; width:100%;\"></div>            <script type=\"text/javascript\">                                    window.PLOTLYENV=window.PLOTLYENV || {};                                    if (document.getElementById(\"e7e8939b-a107-412c-a00f-43ac46bf3020\")) {                    Plotly.newPlot(                        \"e7e8939b-a107-412c-a00f-43ac46bf3020\",                        [{\"hovertemplate\":\"x=%{x}\\u003cbr\\u003ey=%{y}\\u003cbr\\u003ez=%{z}\\u003cbr\\u003ecolor=%{marker.color}\\u003cextra\\u003e\\u003c\\u002fextra\\u003e\",\"legendgroup\":\"\",\"marker\":{\"color\":[0.0516817211686077,0.531354631568148,0.5406351216101065,0.6374299014982066,0.7260913337226615,0.9758520794625346,0.5163003483011953,0.32295647294124596,0.7951861947687037,0.2708322512620742,0.4389714207056361,0.07845638134226596,0.02535074341545751,0.9626484146779251,0.8359801205122058,0.695974206093698,0.4089529444142699,0.17329432007084578,0.15643704267108605,0.25024289816459533,0.5492266647061205,0.7145959227000623,0.6601973767177313,0.27993389694594284,0.9548652806631941,0.7378969166957685,0.5543540525114007,0.6117207462343522,0.4196000624277899,0.24773098950115746,0.3559726786512616,0.7578461104643691,0.014393488629755868,0.11607264050691624,0.04600264202175275,0.040728802318970136,0.8554605840110072,0.7036578593800237,0.4741738290873252,0.09783416065100148,0.49161587511683236,0.4734717707805657,0.17320186991001518,0.43385164923797304,0.39850473439737344,0.6158500980522165,0.6350936508676438,0.04530400977204452,0.3746126146264712,0.6258599157142364,0.5031362585800877,0.8564898411883223,0.658693631618945,0.1629344270814297,0.07056874740042984,0.6424192782063156,0.026511310541621813,0.5857755812734633,0.9402302414249576,0.575474177875879,0.3881699262065219,0.6432882184423532,0.45825289049151663,0.5456167893159349,0.9414648087765252,0.38610263780077425,0.9611905638239142,0.9053506419560637,0.19579113478929644,0.06936130087516545,0.10077800137742665,0.018221825651549728,0.0944429607559284,0.6830067734163568,0.07118864846022899,0.3189756302937613,0.8448753109694546,0.023271935735825866,0.8144684825889358,0.28185477477339993,0.11816482762165625,0.6967371653641506,0.628942846779884,0.877472013527053,0.7350710438038858,0.8034809303848486,0.2820345725713065,0.17743954377972282,0.7506147516408583,0.806834739267264,0.9905051420006733,0.4126176769114265,0.37201808579278317,0.7764129607419968,0.34080354025301784,0.9307573256035647,0.8584127518430118,0.42899402737501835,0.7508710677914974,0.7545428740846823],\"coloraxis\":\"coloraxis\",\"symbol\":\"circle\"},\"mode\":\"markers\",\"name\":\"\",\"scene\":\"scene\",\"showlegend\":false,\"x\":[0.3745401188473625,0.9507143064099162,0.7319939418114051,0.5986584841970366,0.15601864044243652,0.15599452033620265,0.05808361216819946,0.8661761457749352,0.6011150117432088,0.7080725777960455,0.020584494295802447,0.9699098521619943,0.8324426408004217,0.21233911067827616,0.18182496720710062,0.18340450985343382,0.3042422429595377,0.5247564316322378,0.43194501864211576,0.2912291401980419,0.6118528947223795,0.13949386065204183,0.29214464853521815,0.3663618432936917,0.45606998421703593,0.7851759613930136,0.19967378215835974,0.5142344384136116,0.5924145688620425,0.046450412719997725,0.6075448519014384,0.17052412368729153,0.06505159298527952,0.9488855372533332,0.9656320330745594,0.8083973481164611,0.3046137691733707,0.09767211400638387,0.6842330265121569,0.4401524937396013,0.12203823484477883,0.4951769101112702,0.034388521115218396,0.9093204020787821,0.2587799816000169,0.662522284353982,0.31171107608941095,0.5200680211778108,0.5467102793432796,0.18485445552552704,0.9695846277645586,0.7751328233611146,0.9394989415641891,0.8948273504276488,0.5978999788110851,0.9218742350231168,0.0884925020519195,0.1959828624191452,0.045227288910538066,0.32533033076326434,0.388677289689482,0.2713490317738959,0.8287375091519293,0.3567533266935893,0.28093450968738076,0.5426960831582485,0.14092422497476265,0.8021969807540397,0.07455064367977082,0.9868869366005173,0.7722447692966574,0.1987156815341724,0.005522117123602399,0.8154614284548342,0.7068573438476171,0.7290071680409873,0.7712703466859457,0.07404465173409036,0.3584657285442726,0.11586905952512971,0.8631034258755935,0.6232981268275579,0.3308980248526492,0.06355835028602363,0.3109823217156622,0.32518332202674705,0.7296061783380641,0.6375574713552131,0.8872127425763265,0.4722149251619493,0.1195942459383017,0.713244787222995,0.7607850486168974,0.5612771975694962,0.770967179954561,0.49379559636439074,0.5227328293819941,0.42754101835854963,0.02541912674409519,0.10789142699330445],\"y\":[0.03142918568673425,0.6364104112637804,0.3143559810763267,0.5085706911647028,0.907566473926093,0.24929222914887494,0.41038292303562973,0.7555511385430487,0.22879816549162246,0.07697990982879299,0.289751452913768,0.16122128725400442,0.9296976523425731,0.808120379564417,0.6334037565104235,0.8714605901877177,0.8036720768991145,0.18657005888603584,0.8925589984899778,0.5393422419156507,0.8074401551640625,0.8960912999234932,0.3180034749718639,0.11005192452767676,0.22793516254194168,0.4271077886262563,0.8180147659224931,0.8607305832563434,0.006952130531190703,0.5107473025775657,0.417411003148779,0.22210781047073025,0.1198653673336828,0.33761517140362796,0.9429097039125192,0.32320293202075523,0.5187906217433661,0.7030189588951778,0.363629602379294,0.9717820827209607,0.9624472949421112,0.25178229582536416,0.49724850589238545,0.30087830981676966,0.2848404943774676,0.036886947354532795,0.6095643339798968,0.5026790232288615,0.05147875124998935,0.27864646423661144,0.9082658859666537,0.23956189066697242,0.1448948720912231,0.489452760277563,0.9856504541106007,0.2420552715115004,0.6721355474058786,0.7616196153287176,0.23763754399239967,0.7282163486118596,0.3677831327192532,0.6323058305935795,0.6335297107608947,0.5357746840747585,0.0902897700544083,0.835302495589238,0.32078006497173583,0.18651851039985423,0.040775141554763916,0.5908929431882418,0.6775643618422824,0.016587828927856152,0.512093058299281,0.22649577519793795,0.6451727904094499,0.17436642900499144,0.690937738102466,0.3867353463005374,0.9367299887367345,0.13752094414599325,0.3410663510502585,0.11347352124058907,0.9246936182785628,0.877339353380981,0.2579416277151556,0.659984046034179,0.8172222002012158,0.5552008115994623,0.5296505783560065,0.24185229090045168,0.09310276780589921,0.8972157579533268,0.9004180571633305,0.6331014572732679,0.3390297910487007,0.3492095746126609,0.7259556788702394,0.8971102599525771,0.8870864242651173,0.7798755458576239],\"z\":[0.6420316461542878,0.08413996499504883,0.16162871409461377,0.8985541885270792,0.6064290596595899,0.009197051616629648,0.1014715428660321,0.6635017691080558,0.005061583846218687,0.16080805141749865,0.5487337893665861,0.6918951976926933,0.6519612595026005,0.22426930946055978,0.7121792213475359,0.23724908749680007,0.3253996981592677,0.7464914051180241,0.6496328990472147,0.8492234104941779,0.6576128923003434,0.5683086033354716,0.09367476782809248,0.3677158030594335,0.26520236768172545,0.24398964337908358,0.9730105547524456,0.3930977246667604,0.8920465551771133,0.6311386259972629,0.7948113035416484,0.5026370931051921,0.5769038846263591,0.4925176938188639,0.1952429877980445,0.7224521152615053,0.2807723624408558,0.02431596643145384,0.6454722959071678,0.17711067940704894,0.9404585843529143,0.9539285770025874,0.9148643902204485,0.3701587002554444,0.015456616528867428,0.9283185625877254,0.42818414831731433,0.9666548190436696,0.9636199770892528,0.8530094554673601,0.2944488920695857,0.38509772860192526,0.8511366715168569,0.31692200515627766,0.1694927466860925,0.5568012624583502,0.936154774160781,0.696029796674973,0.570061170089365,0.09717649377076854,0.6150072266991697,0.9900538501042633,0.14008401523652403,0.5183296523637367,0.8773730719279554,0.7407686177542044,0.697015740995268,0.7024840839871093,0.35949115121975517,0.29359184426449336,0.8093611554785136,0.8101133946791808,0.8670723185801037,0.9132405525564713,0.5113423988609378,0.5015162946871996,0.7982951789667752,0.6499639307777652,0.7019668772577033,0.795792669436101,0.8900053418175663,0.3379951568515358,0.375582952639944,0.093981939840869,0.578280140996174,0.035942273796742086,0.46559801813246016,0.5426446347075766,0.2865412521282844,0.5908332605690108,0.03050024993904943,0.03734818874921442,0.8226005606596583,0.3601906414112629,0.12706051265188478,0.5222432600548044,0.7699935530986108,0.21582102749684318,0.6228904758190003,0.085347464993768],\"type\":\"scatter3d\"}],                        {\"template\":{\"data\":{\"histogram2dcontour\":[{\"type\":\"histogram2dcontour\",\"colorbar\":{\"outlinewidth\":0,\"ticks\":\"\"},\"colorscale\":[[0.0,\"#0d0887\"],[0.1111111111111111,\"#46039f\"],[0.2222222222222222,\"#7201a8\"],[0.3333333333333333,\"#9c179e\"],[0.4444444444444444,\"#bd3786\"],[0.5555555555555556,\"#d8576b\"],[0.6666666666666666,\"#ed7953\"],[0.7777777777777778,\"#fb9f3a\"],[0.8888888888888888,\"#fdca26\"],[1.0,\"#f0f921\"]]}],\"choropleth\":[{\"type\":\"choropleth\",\"colorbar\":{\"outlinewidth\":0,\"ticks\":\"\"}}],\"histogram2d\":[{\"type\":\"histogram2d\",\"colorbar\":{\"outlinewidth\":0,\"ticks\":\"\"},\"colorscale\":[[0.0,\"#0d0887\"],[0.1111111111111111,\"#46039f\"],[0.2222222222222222,\"#7201a8\"],[0.3333333333333333,\"#9c179e\"],[0.4444444444444444,\"#bd3786\"],[0.5555555555555556,\"#d8576b\"],[0.6666666666666666,\"#ed7953\"],[0.7777777777777778,\"#fb9f3a\"],[0.8888888888888888,\"#fdca26\"],[1.0,\"#f0f921\"]]}],\"heatmap\":[{\"type\":\"heatmap\",\"colorbar\":{\"outlinewidth\":0,\"ticks\":\"\"},\"colorscale\":[[0.0,\"#0d0887\"],[0.1111111111111111,\"#46039f\"],[0.2222222222222222,\"#7201a8\"],[0.3333333333333333,\"#9c179e\"],[0.4444444444444444,\"#bd3786\"],[0.5555555555555556,\"#d8576b\"],[0.6666666666666666,\"#ed7953\"],[0.7777777777777778,\"#fb9f3a\"],[0.8888888888888888,\"#fdca26\"],[1.0,\"#f0f921\"]]}],\"heatmapgl\":[{\"type\":\"heatmapgl\",\"colorbar\":{\"outlinewidth\":0,\"ticks\":\"\"},\"colorscale\":[[0.0,\"#0d0887\"],[0.1111111111111111,\"#46039f\"],[0.2222222222222222,\"#7201a8\"],[0.3333333333333333,\"#9c179e\"],[0.4444444444444444,\"#bd3786\"],[0.5555555555555556,\"#d8576b\"],[0.6666666666666666,\"#ed7953\"],[0.7777777777777778,\"#fb9f3a\"],[0.8888888888888888,\"#fdca26\"],[1.0,\"#f0f921\"]]}],\"contourcarpet\":[{\"type\":\"contourcarpet\",\"colorbar\":{\"outlinewidth\":0,\"ticks\":\"\"}}],\"contour\":[{\"type\":\"contour\",\"colorbar\":{\"outlinewidth\":0,\"ticks\":\"\"},\"colorscale\":[[0.0,\"#0d0887\"],[0.1111111111111111,\"#46039f\"],[0.2222222222222222,\"#7201a8\"],[0.3333333333333333,\"#9c179e\"],[0.4444444444444444,\"#bd3786\"],[0.5555555555555556,\"#d8576b\"],[0.6666666666666666,\"#ed7953\"],[0.7777777777777778,\"#fb9f3a\"],[0.8888888888888888,\"#fdca26\"],[1.0,\"#f0f921\"]]}],\"surface\":[{\"type\":\"surface\",\"colorbar\":{\"outlinewidth\":0,\"ticks\":\"\"},\"colorscale\":[[0.0,\"#0d0887\"],[0.1111111111111111,\"#46039f\"],[0.2222222222222222,\"#7201a8\"],[0.3333333333333333,\"#9c179e\"],[0.4444444444444444,\"#bd3786\"],[0.5555555555555556,\"#d8576b\"],[0.6666666666666666,\"#ed7953\"],[0.7777777777777778,\"#fb9f3a\"],[0.8888888888888888,\"#fdca26\"],[1.0,\"#f0f921\"]]}],\"mesh3d\":[{\"type\":\"mesh3d\",\"colorbar\":{\"outlinewidth\":0,\"ticks\":\"\"}}],\"scatter\":[{\"fillpattern\":{\"fillmode\":\"overlay\",\"size\":10,\"solidity\":0.2},\"type\":\"scatter\"}],\"parcoords\":[{\"type\":\"parcoords\",\"line\":{\"colorbar\":{\"outlinewidth\":0,\"ticks\":\"\"}}}],\"scatterpolargl\":[{\"type\":\"scatterpolargl\",\"marker\":{\"colorbar\":{\"outlinewidth\":0,\"ticks\":\"\"}}}],\"bar\":[{\"error_x\":{\"color\":\"#2a3f5f\"},\"error_y\":{\"color\":\"#2a3f5f\"},\"marker\":{\"line\":{\"color\":\"#E5ECF6\",\"width\":0.5},\"pattern\":{\"fillmode\":\"overlay\",\"size\":10,\"solidity\":0.2}},\"type\":\"bar\"}],\"scattergeo\":[{\"type\":\"scattergeo\",\"marker\":{\"colorbar\":{\"outlinewidth\":0,\"ticks\":\"\"}}}],\"scatterpolar\":[{\"type\":\"scatterpolar\",\"marker\":{\"colorbar\":{\"outlinewidth\":0,\"ticks\":\"\"}}}],\"histogram\":[{\"marker\":{\"pattern\":{\"fillmode\":\"overlay\",\"size\":10,\"solidity\":0.2}},\"type\":\"histogram\"}],\"scattergl\":[{\"type\":\"scattergl\",\"marker\":{\"colorbar\":{\"outlinewidth\":0,\"ticks\":\"\"}}}],\"scatter3d\":[{\"type\":\"scatter3d\",\"line\":{\"colorbar\":{\"outlinewidth\":0,\"ticks\":\"\"}},\"marker\":{\"colorbar\":{\"outlinewidth\":0,\"ticks\":\"\"}}}],\"scattermapbox\":[{\"type\":\"scattermapbox\",\"marker\":{\"colorbar\":{\"outlinewidth\":0,\"ticks\":\"\"}}}],\"scatterternary\":[{\"type\":\"scatterternary\",\"marker\":{\"colorbar\":{\"outlinewidth\":0,\"ticks\":\"\"}}}],\"scattercarpet\":[{\"type\":\"scattercarpet\",\"marker\":{\"colorbar\":{\"outlinewidth\":0,\"ticks\":\"\"}}}],\"carpet\":[{\"aaxis\":{\"endlinecolor\":\"#2a3f5f\",\"gridcolor\":\"white\",\"linecolor\":\"white\",\"minorgridcolor\":\"white\",\"startlinecolor\":\"#2a3f5f\"},\"baxis\":{\"endlinecolor\":\"#2a3f5f\",\"gridcolor\":\"white\",\"linecolor\":\"white\",\"minorgridcolor\":\"white\",\"startlinecolor\":\"#2a3f5f\"},\"type\":\"carpet\"}],\"table\":[{\"cells\":{\"fill\":{\"color\":\"#EBF0F8\"},\"line\":{\"color\":\"white\"}},\"header\":{\"fill\":{\"color\":\"#C8D4E3\"},\"line\":{\"color\":\"white\"}},\"type\":\"table\"}],\"barpolar\":[{\"marker\":{\"line\":{\"color\":\"#E5ECF6\",\"width\":0.5},\"pattern\":{\"fillmode\":\"overlay\",\"size\":10,\"solidity\":0.2}},\"type\":\"barpolar\"}],\"pie\":[{\"automargin\":true,\"type\":\"pie\"}]},\"layout\":{\"autotypenumbers\":\"strict\",\"colorway\":[\"#636efa\",\"#EF553B\",\"#00cc96\",\"#ab63fa\",\"#FFA15A\",\"#19d3f3\",\"#FF6692\",\"#B6E880\",\"#FF97FF\",\"#FECB52\"],\"font\":{\"color\":\"#2a3f5f\"},\"hovermode\":\"closest\",\"hoverlabel\":{\"align\":\"left\"},\"paper_bgcolor\":\"white\",\"plot_bgcolor\":\"#E5ECF6\",\"polar\":{\"bgcolor\":\"#E5ECF6\",\"angularaxis\":{\"gridcolor\":\"white\",\"linecolor\":\"white\",\"ticks\":\"\"},\"radialaxis\":{\"gridcolor\":\"white\",\"linecolor\":\"white\",\"ticks\":\"\"}},\"ternary\":{\"bgcolor\":\"#E5ECF6\",\"aaxis\":{\"gridcolor\":\"white\",\"linecolor\":\"white\",\"ticks\":\"\"},\"baxis\":{\"gridcolor\":\"white\",\"linecolor\":\"white\",\"ticks\":\"\"},\"caxis\":{\"gridcolor\":\"white\",\"linecolor\":\"white\",\"ticks\":\"\"}},\"coloraxis\":{\"colorbar\":{\"outlinewidth\":0,\"ticks\":\"\"}},\"colorscale\":{\"sequential\":[[0.0,\"#0d0887\"],[0.1111111111111111,\"#46039f\"],[0.2222222222222222,\"#7201a8\"],[0.3333333333333333,\"#9c179e\"],[0.4444444444444444,\"#bd3786\"],[0.5555555555555556,\"#d8576b\"],[0.6666666666666666,\"#ed7953\"],[0.7777777777777778,\"#fb9f3a\"],[0.8888888888888888,\"#fdca26\"],[1.0,\"#f0f921\"]],\"sequentialminus\":[[0.0,\"#0d0887\"],[0.1111111111111111,\"#46039f\"],[0.2222222222222222,\"#7201a8\"],[0.3333333333333333,\"#9c179e\"],[0.4444444444444444,\"#bd3786\"],[0.5555555555555556,\"#d8576b\"],[0.6666666666666666,\"#ed7953\"],[0.7777777777777778,\"#fb9f3a\"],[0.8888888888888888,\"#fdca26\"],[1.0,\"#f0f921\"]],\"diverging\":[[0,\"#8e0152\"],[0.1,\"#c51b7d\"],[0.2,\"#de77ae\"],[0.3,\"#f1b6da\"],[0.4,\"#fde0ef\"],[0.5,\"#f7f7f7\"],[0.6,\"#e6f5d0\"],[0.7,\"#b8e186\"],[0.8,\"#7fbc41\"],[0.9,\"#4d9221\"],[1,\"#276419\"]]},\"xaxis\":{\"gridcolor\":\"white\",\"linecolor\":\"white\",\"ticks\":\"\",\"title\":{\"standoff\":15},\"zerolinecolor\":\"white\",\"automargin\":true,\"zerolinewidth\":2},\"yaxis\":{\"gridcolor\":\"white\",\"linecolor\":\"white\",\"ticks\":\"\",\"title\":{\"standoff\":15},\"zerolinecolor\":\"white\",\"automargin\":true,\"zerolinewidth\":2},\"scene\":{\"xaxis\":{\"backgroundcolor\":\"#E5ECF6\",\"gridcolor\":\"white\",\"linecolor\":\"white\",\"showbackground\":true,\"ticks\":\"\",\"zerolinecolor\":\"white\",\"gridwidth\":2},\"yaxis\":{\"backgroundcolor\":\"#E5ECF6\",\"gridcolor\":\"white\",\"linecolor\":\"white\",\"showbackground\":true,\"ticks\":\"\",\"zerolinecolor\":\"white\",\"gridwidth\":2},\"zaxis\":{\"backgroundcolor\":\"#E5ECF6\",\"gridcolor\":\"white\",\"linecolor\":\"white\",\"showbackground\":true,\"ticks\":\"\",\"zerolinecolor\":\"white\",\"gridwidth\":2}},\"shapedefaults\":{\"line\":{\"color\":\"#2a3f5f\"}},\"annotationdefaults\":{\"arrowcolor\":\"#2a3f5f\",\"arrowhead\":0,\"arrowwidth\":1},\"geo\":{\"bgcolor\":\"white\",\"landcolor\":\"#E5ECF6\",\"subunitcolor\":\"white\",\"showland\":true,\"showlakes\":true,\"lakecolor\":\"white\"},\"title\":{\"x\":0.05},\"mapbox\":{\"style\":\"light\"}}},\"scene\":{\"domain\":{\"x\":[0.0,1.0],\"y\":[0.0,1.0]},\"xaxis\":{\"title\":{\"text\":\"x\"}},\"yaxis\":{\"title\":{\"text\":\"y\"}},\"zaxis\":{\"title\":{\"text\":\"z\"}}},\"coloraxis\":{\"colorbar\":{\"title\":{\"text\":\"color\"}},\"colorscale\":[[0.0,\"#0d0887\"],[0.1111111111111111,\"#46039f\"],[0.2222222222222222,\"#7201a8\"],[0.3333333333333333,\"#9c179e\"],[0.4444444444444444,\"#bd3786\"],[0.5555555555555556,\"#d8576b\"],[0.6666666666666666,\"#ed7953\"],[0.7777777777777778,\"#fb9f3a\"],[0.8888888888888888,\"#fdca26\"],[1.0,\"#f0f921\"]]},\"legend\":{\"tracegroupgap\":0},\"title\":{\"text\":\"3D Scatter Plot\"}},                        {\"responsive\": true}                    ).then(function(){\n",
              "                            \n",
              "var gd = document.getElementById('e7e8939b-a107-412c-a00f-43ac46bf3020');\n",
              "var x = new MutationObserver(function (mutations, observer) {{\n",
              "        var display = window.getComputedStyle(gd).display;\n",
              "        if (!display || display === 'none') {{\n",
              "            console.log([gd, 'removed!']);\n",
              "            Plotly.purge(gd);\n",
              "            observer.disconnect();\n",
              "        }}\n",
              "}});\n",
              "\n",
              "// Listen for the removal of the full notebook cells\n",
              "var notebookContainer = gd.closest('#notebook-container');\n",
              "if (notebookContainer) {{\n",
              "    x.observe(notebookContainer, {childList: true});\n",
              "}}\n",
              "\n",
              "// Listen for the clearing of the current output cell\n",
              "var outputEl = gd.closest('.output');\n",
              "if (outputEl) {{\n",
              "    x.observe(outputEl, {childList: true});\n",
              "}}\n",
              "\n",
              "                        })                };                            </script>        </div>\n",
              "</body>\n",
              "</html>"
            ]
          },
          "metadata": {}
        }
      ]
    },
    {
      "cell_type": "code",
      "source": [],
      "metadata": {
        "id": "yfQGzZh3QBIb"
      },
      "execution_count": null,
      "outputs": []
    },
    {
      "cell_type": "code",
      "source": [],
      "metadata": {
        "id": "AX9Iigd1QBEa"
      },
      "execution_count": null,
      "outputs": []
    },
    {
      "cell_type": "markdown",
      "source": [],
      "metadata": {
        "id": "4mI_NR-FpmUL"
      }
    },
    {
      "cell_type": "markdown",
      "source": [],
      "metadata": {
        "id": "-qXnaLYHpmQd"
      }
    }
  ]
}